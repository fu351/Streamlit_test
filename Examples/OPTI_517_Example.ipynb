{
  "cells": [
    {
      "cell_type": "code",
      "execution_count": 2,
      "metadata": {
        "id": "aiGaqLZB_zSD",
        "colab": {
          "base_uri": "https://localhost:8080/"
        },
        "outputId": "c3ef5854-42d4-44af-b676-55889695a550"
      },
      "outputs": [
        {
          "output_type": "stream",
          "name": "stdout",
          "text": [
            "Cloning into 'Ray-Optics'...\n",
            "remote: Enumerating objects: 508, done.\u001b[K\n",
            "remote: Total 508 (delta 0), reused 0 (delta 0), pack-reused 508\u001b[K\n",
            "Receiving objects: 100% (508/508), 1.59 MiB | 4.27 MiB/s, done.\n",
            "Resolving deltas: 100% (168/168), done.\n"
          ]
        }
      ],
      "source": [
        "!git clone https://github.itap.purdue.edu/guo-research-group/Ray-Optics"
      ]
    },
    {
      "cell_type": "code",
      "execution_count": 3,
      "metadata": {
        "id": "nP07RRP4_-zf",
        "colab": {
          "base_uri": "https://localhost:8080/"
        },
        "outputId": "af002d08-df12-42a8-8388-216713add05c"
      },
      "outputs": [
        {
          "output_type": "stream",
          "name": "stdout",
          "text": [
            "/content/Ray-Optics\n",
            "running develop\n",
            "/usr/local/lib/python3.10/dist-packages/setuptools/command/develop.py:40: EasyInstallDeprecationWarning: easy_install command is deprecated.\n",
            "!!\n",
            "\n",
            "        ********************************************************************************\n",
            "        Please avoid running ``setup.py`` and ``easy_install``.\n",
            "        Instead, use pypa/build, pypa/installer, pypa/build or\n",
            "        other standards-based tools.\n",
            "\n",
            "        See https://github.com/pypa/setuptools/issues/917 for details.\n",
            "        ********************************************************************************\n",
            "\n",
            "!!\n",
            "  easy_install.initialize_options(self)\n",
            "/usr/local/lib/python3.10/dist-packages/setuptools/_distutils/cmd.py:66: SetuptoolsDeprecationWarning: setup.py install is deprecated.\n",
            "!!\n",
            "\n",
            "        ********************************************************************************\n",
            "        Please avoid running ``setup.py`` directly.\n",
            "        Instead, use pypa/build, pypa/installer, pypa/build or\n",
            "        other standards-based tools.\n",
            "\n",
            "        See https://blog.ganssle.io/articles/2021/10/setup-py-deprecated.html for details.\n",
            "        ********************************************************************************\n",
            "\n",
            "!!\n",
            "  self.initialize_options()\n",
            "running egg_info\n",
            "creating rayoptics.egg-info\n",
            "writing rayoptics.egg-info/PKG-INFO\n",
            "writing dependency_links to rayoptics.egg-info/dependency_links.txt\n",
            "writing top-level names to rayoptics.egg-info/top_level.txt\n",
            "writing manifest file 'rayoptics.egg-info/SOURCES.txt'\n",
            "reading manifest file 'rayoptics.egg-info/SOURCES.txt'\n",
            "writing manifest file 'rayoptics.egg-info/SOURCES.txt'\n",
            "running build_ext\n",
            "Creating /usr/local/lib/python3.10/dist-packages/rayoptics.egg-link (link to .)\n",
            "Adding rayoptics 1.1.0 to easy-install.pth file\n",
            "\n",
            "Installed /content/Ray-Optics\n",
            "Processing dependencies for rayoptics==1.1.0\n",
            "Finished processing dependencies for rayoptics==1.1.0\n"
          ]
        }
      ],
      "source": [
        "%cd /content/Ray-Optics\n",
        "!python setup.py develop"
      ]
    },
    {
      "cell_type": "code",
      "execution_count": 4,
      "metadata": {
        "id": "puSVD9OiADGf",
        "colab": {
          "base_uri": "https://localhost:8080/"
        },
        "outputId": "ffc4c821-e789-48f2-a97e-e3e24a16f1e2"
      },
      "outputs": [
        {
          "output_type": "stream",
          "name": "stdout",
          "text": [
            "Collecting opticalglass (from -r requirements.txt (line 1))\n",
            "  Downloading opticalglass-1.0.7-py3-none-any.whl (4.3 MB)\n",
            "\u001b[2K     \u001b[90m━━━━━━━━━━━━━━━━━━━━━━━━━━━━━━━━━━━━━━━━\u001b[0m \u001b[32m4.3/4.3 MB\u001b[0m \u001b[31m12.2 MB/s\u001b[0m eta \u001b[36m0:00:00\u001b[0m\n",
            "\u001b[?25hRequirement already satisfied: numpy in /usr/local/lib/python3.10/dist-packages (from -r requirements.txt (line 2)) (1.23.5)\n",
            "Requirement already satisfied: scipy in /usr/local/lib/python3.10/dist-packages (from -r requirements.txt (line 3)) (1.11.4)\n",
            "Requirement already satisfied: matplotlib in /usr/local/lib/python3.10/dist-packages (from -r requirements.txt (line 4)) (3.7.1)\n",
            "Requirement already satisfied: pandas in /usr/local/lib/python3.10/dist-packages (from -r requirements.txt (line 5)) (1.5.3)\n",
            "Collecting anytree (from -r requirements.txt (line 6))\n",
            "  Downloading anytree-2.12.1-py3-none-any.whl (44 kB)\n",
            "\u001b[2K     \u001b[90m━━━━━━━━━━━━━━━━━━━━━━━━━━━━━━━━━━━━━━━━\u001b[0m \u001b[32m44.9/44.9 kB\u001b[0m \u001b[31m3.7 MB/s\u001b[0m eta \u001b[36m0:00:00\u001b[0m\n",
            "\u001b[?25hCollecting transforms3d (from -r requirements.txt (line 7))\n",
            "  Downloading transforms3d-0.4.1-py3-none-any.whl (1.4 MB)\n",
            "\u001b[2K     \u001b[90m━━━━━━━━━━━━━━━━━━━━━━━━━━━━━━━━━━━━━━━━\u001b[0m \u001b[32m1.4/1.4 MB\u001b[0m \u001b[31m24.2 MB/s\u001b[0m eta \u001b[36m0:00:00\u001b[0m\n",
            "\u001b[?25hRequirement already satisfied: requests in /usr/local/lib/python3.10/dist-packages (from -r requirements.txt (line 8)) (2.31.0)\n",
            "Requirement already satisfied: packaging in /usr/local/lib/python3.10/dist-packages (from -r requirements.txt (line 9)) (23.2)\n",
            "Collecting json_tricks (from -r requirements.txt (line 10))\n",
            "  Downloading json_tricks-3.17.3-py2.py3-none-any.whl (27 kB)\n",
            "Collecting deprecation (from -r requirements.txt (line 11))\n",
            "  Downloading deprecation-2.1.0-py2.py3-none-any.whl (11 kB)\n",
            "Requirement already satisfied: ipywidgets in /usr/local/lib/python3.10/dist-packages (from -r requirements.txt (line 12)) (7.7.1)\n",
            "Collecting pyqt5 (from -r requirements.txt (line 13))\n",
            "  Downloading PyQt5-5.15.10-cp37-abi3-manylinux_2_17_x86_64.whl (8.2 MB)\n",
            "\u001b[2K     \u001b[90m━━━━━━━━━━━━━━━━━━━━━━━━━━━━━━━━━━━━━━━━\u001b[0m \u001b[32m8.2/8.2 MB\u001b[0m \u001b[31m40.1 MB/s\u001b[0m eta \u001b[36m0:00:00\u001b[0m\n",
            "\u001b[?25hCollecting qdarkstyle (from -r requirements.txt (line 14))\n",
            "  Downloading QDarkStyle-3.2.3-py2.py3-none-any.whl (871 kB)\n",
            "\u001b[2K     \u001b[90m━━━━━━━━━━━━━━━━━━━━━━━━━━━━━━━━━━━━━━━━\u001b[0m \u001b[32m871.8/871.8 kB\u001b[0m \u001b[31m34.4 MB/s\u001b[0m eta \u001b[36m0:00:00\u001b[0m\n",
            "\u001b[?25hRequirement already satisfied: ipython in /usr/local/lib/python3.10/dist-packages (from -r requirements.txt (line 15)) (7.34.0)\n",
            "Requirement already satisfied: traitlets in /usr/local/lib/python3.10/dist-packages (from -r requirements.txt (line 16)) (5.7.1)\n",
            "Collecting numpy (from -r requirements.txt (line 2))\n",
            "  Downloading numpy-1.26.3-cp310-cp310-manylinux_2_17_x86_64.manylinux2014_x86_64.whl (18.2 MB)\n",
            "\u001b[2K     \u001b[90m━━━━━━━━━━━━━━━━━━━━━━━━━━━━━━━━━━━━━━━━\u001b[0m \u001b[32m18.2/18.2 MB\u001b[0m \u001b[31m16.4 MB/s\u001b[0m eta \u001b[36m0:00:00\u001b[0m\n",
            "\u001b[?25hCollecting pandas (from -r requirements.txt (line 5))\n",
            "  Downloading pandas-2.2.0-cp310-cp310-manylinux_2_17_x86_64.manylinux2014_x86_64.whl (13.0 MB)\n",
            "\u001b[2K     \u001b[90m━━━━━━━━━━━━━━━━━━━━━━━━━━━━━━━━━━━━━━━━\u001b[0m \u001b[32m13.0/13.0 MB\u001b[0m \u001b[31m66.7 MB/s\u001b[0m eta \u001b[36m0:00:00\u001b[0m\n",
            "\u001b[?25hRequirement already satisfied: xlrd>=2.0.1 in /usr/local/lib/python3.10/dist-packages (from opticalglass->-r requirements.txt (line 1)) (2.0.1)\n",
            "Requirement already satisfied: openpyxl>=3.1.2 in /usr/local/lib/python3.10/dist-packages (from opticalglass->-r requirements.txt (line 1)) (3.1.2)\n",
            "Requirement already satisfied: pyyaml>=6.0 in /usr/local/lib/python3.10/dist-packages (from opticalglass->-r requirements.txt (line 1)) (6.0.1)\n",
            "Requirement already satisfied: contourpy>=1.0.1 in /usr/local/lib/python3.10/dist-packages (from matplotlib->-r requirements.txt (line 4)) (1.2.0)\n",
            "Requirement already satisfied: cycler>=0.10 in /usr/local/lib/python3.10/dist-packages (from matplotlib->-r requirements.txt (line 4)) (0.12.1)\n",
            "Requirement already satisfied: fonttools>=4.22.0 in /usr/local/lib/python3.10/dist-packages (from matplotlib->-r requirements.txt (line 4)) (4.47.2)\n",
            "Requirement already satisfied: kiwisolver>=1.0.1 in /usr/local/lib/python3.10/dist-packages (from matplotlib->-r requirements.txt (line 4)) (1.4.5)\n",
            "Requirement already satisfied: pillow>=6.2.0 in /usr/local/lib/python3.10/dist-packages (from matplotlib->-r requirements.txt (line 4)) (9.4.0)\n",
            "Requirement already satisfied: pyparsing>=2.3.1 in /usr/local/lib/python3.10/dist-packages (from matplotlib->-r requirements.txt (line 4)) (3.1.1)\n",
            "Requirement already satisfied: python-dateutil>=2.7 in /usr/local/lib/python3.10/dist-packages (from matplotlib->-r requirements.txt (line 4)) (2.8.2)\n",
            "Requirement already satisfied: pytz>=2020.1 in /usr/local/lib/python3.10/dist-packages (from pandas->-r requirements.txt (line 5)) (2023.4)\n",
            "Collecting tzdata>=2022.7 (from pandas->-r requirements.txt (line 5))\n",
            "  Downloading tzdata-2023.4-py2.py3-none-any.whl (346 kB)\n",
            "\u001b[2K     \u001b[90m━━━━━━━━━━━━━━━━━━━━━━━━━━━━━━━━━━━━━━━━\u001b[0m \u001b[32m346.6/346.6 kB\u001b[0m \u001b[31m31.9 MB/s\u001b[0m eta \u001b[36m0:00:00\u001b[0m\n",
            "\u001b[?25hRequirement already satisfied: six in /usr/local/lib/python3.10/dist-packages (from anytree->-r requirements.txt (line 6)) (1.16.0)\n",
            "Requirement already satisfied: charset-normalizer<4,>=2 in /usr/local/lib/python3.10/dist-packages (from requests->-r requirements.txt (line 8)) (3.3.2)\n",
            "Requirement already satisfied: idna<4,>=2.5 in /usr/local/lib/python3.10/dist-packages (from requests->-r requirements.txt (line 8)) (3.6)\n",
            "Requirement already satisfied: urllib3<3,>=1.21.1 in /usr/local/lib/python3.10/dist-packages (from requests->-r requirements.txt (line 8)) (2.0.7)\n",
            "Requirement already satisfied: certifi>=2017.4.17 in /usr/local/lib/python3.10/dist-packages (from requests->-r requirements.txt (line 8)) (2023.11.17)\n",
            "Requirement already satisfied: ipykernel>=4.5.1 in /usr/local/lib/python3.10/dist-packages (from ipywidgets->-r requirements.txt (line 12)) (5.5.6)\n",
            "Requirement already satisfied: ipython-genutils~=0.2.0 in /usr/local/lib/python3.10/dist-packages (from ipywidgets->-r requirements.txt (line 12)) (0.2.0)\n",
            "Requirement already satisfied: widgetsnbextension~=3.6.0 in /usr/local/lib/python3.10/dist-packages (from ipywidgets->-r requirements.txt (line 12)) (3.6.6)\n",
            "Requirement already satisfied: jupyterlab-widgets>=1.0.0 in /usr/local/lib/python3.10/dist-packages (from ipywidgets->-r requirements.txt (line 12)) (3.0.9)\n",
            "Collecting PyQt5-sip<13,>=12.13 (from pyqt5->-r requirements.txt (line 13))\n",
            "  Downloading PyQt5_sip-12.13.0-cp310-cp310-manylinux_2_5_x86_64.manylinux1_x86_64.whl (338 kB)\n",
            "\u001b[2K     \u001b[90m━━━━━━━━━━━━━━━━━━━━━━━━━━━━━━━━━━━━━━━━\u001b[0m \u001b[32m338.1/338.1 kB\u001b[0m \u001b[31m31.8 MB/s\u001b[0m eta \u001b[36m0:00:00\u001b[0m\n",
            "\u001b[?25hCollecting PyQt5-Qt5>=5.15.2 (from pyqt5->-r requirements.txt (line 13))\n",
            "  Downloading PyQt5_Qt5-5.15.2-py3-none-manylinux2014_x86_64.whl (59.9 MB)\n",
            "\u001b[2K     \u001b[90m━━━━━━━━━━━━━━━━━━━━━━━━━━━━━━━━━━━━━━━━\u001b[0m \u001b[32m59.9/59.9 MB\u001b[0m \u001b[31m9.9 MB/s\u001b[0m eta \u001b[36m0:00:00\u001b[0m\n",
            "\u001b[?25hCollecting qtpy>=2 (from qdarkstyle->-r requirements.txt (line 14))\n",
            "  Downloading QtPy-2.4.1-py3-none-any.whl (93 kB)\n",
            "\u001b[2K     \u001b[90m━━━━━━━━━━━━━━━━━━━━━━━━━━━━━━━━━━━━━━━━\u001b[0m \u001b[32m93.5/93.5 kB\u001b[0m \u001b[31m12.8 MB/s\u001b[0m eta \u001b[36m0:00:00\u001b[0m\n",
            "\u001b[?25hRequirement already satisfied: setuptools>=18.5 in /usr/local/lib/python3.10/dist-packages (from ipython->-r requirements.txt (line 15)) (67.7.2)\n",
            "Collecting jedi>=0.16 (from ipython->-r requirements.txt (line 15))\n",
            "  Downloading jedi-0.19.1-py2.py3-none-any.whl (1.6 MB)\n",
            "\u001b[2K     \u001b[90m━━━━━━━━━━━━━━━━━━━━━━━━━━━━━━━━━━━━━━━━\u001b[0m \u001b[32m1.6/1.6 MB\u001b[0m \u001b[31m80.8 MB/s\u001b[0m eta \u001b[36m0:00:00\u001b[0m\n",
            "\u001b[?25hRequirement already satisfied: decorator in /usr/local/lib/python3.10/dist-packages (from ipython->-r requirements.txt (line 15)) (4.4.2)\n",
            "Requirement already satisfied: pickleshare in /usr/local/lib/python3.10/dist-packages (from ipython->-r requirements.txt (line 15)) (0.7.5)\n",
            "Requirement already satisfied: prompt-toolkit!=3.0.0,!=3.0.1,<3.1.0,>=2.0.0 in /usr/local/lib/python3.10/dist-packages (from ipython->-r requirements.txt (line 15)) (3.0.43)\n",
            "Requirement already satisfied: pygments in /usr/local/lib/python3.10/dist-packages (from ipython->-r requirements.txt (line 15)) (2.16.1)\n",
            "Requirement already satisfied: backcall in /usr/local/lib/python3.10/dist-packages (from ipython->-r requirements.txt (line 15)) (0.2.0)\n",
            "Requirement already satisfied: matplotlib-inline in /usr/local/lib/python3.10/dist-packages (from ipython->-r requirements.txt (line 15)) (0.1.6)\n",
            "Requirement already satisfied: pexpect>4.3 in /usr/local/lib/python3.10/dist-packages (from ipython->-r requirements.txt (line 15)) (4.9.0)\n",
            "Requirement already satisfied: jupyter-client in /usr/local/lib/python3.10/dist-packages (from ipykernel>=4.5.1->ipywidgets->-r requirements.txt (line 12)) (6.1.12)\n",
            "Requirement already satisfied: tornado>=4.2 in /usr/local/lib/python3.10/dist-packages (from ipykernel>=4.5.1->ipywidgets->-r requirements.txt (line 12)) (6.3.2)\n",
            "Requirement already satisfied: parso<0.9.0,>=0.8.3 in /usr/local/lib/python3.10/dist-packages (from jedi>=0.16->ipython->-r requirements.txt (line 15)) (0.8.3)\n",
            "Requirement already satisfied: et-xmlfile in /usr/local/lib/python3.10/dist-packages (from openpyxl>=3.1.2->opticalglass->-r requirements.txt (line 1)) (1.1.0)\n",
            "Requirement already satisfied: ptyprocess>=0.5 in /usr/local/lib/python3.10/dist-packages (from pexpect>4.3->ipython->-r requirements.txt (line 15)) (0.7.0)\n",
            "Requirement already satisfied: wcwidth in /usr/local/lib/python3.10/dist-packages (from prompt-toolkit!=3.0.0,!=3.0.1,<3.1.0,>=2.0.0->ipython->-r requirements.txt (line 15)) (0.2.13)\n",
            "Requirement already satisfied: notebook>=4.4.1 in /usr/local/lib/python3.10/dist-packages (from widgetsnbextension~=3.6.0->ipywidgets->-r requirements.txt (line 12)) (6.5.5)\n",
            "Requirement already satisfied: jinja2 in /usr/local/lib/python3.10/dist-packages (from notebook>=4.4.1->widgetsnbextension~=3.6.0->ipywidgets->-r requirements.txt (line 12)) (3.1.3)\n",
            "Requirement already satisfied: pyzmq<25,>=17 in /usr/local/lib/python3.10/dist-packages (from notebook>=4.4.1->widgetsnbextension~=3.6.0->ipywidgets->-r requirements.txt (line 12)) (23.2.1)\n",
            "Requirement already satisfied: argon2-cffi in /usr/local/lib/python3.10/dist-packages (from notebook>=4.4.1->widgetsnbextension~=3.6.0->ipywidgets->-r requirements.txt (line 12)) (23.1.0)\n",
            "Requirement already satisfied: jupyter-core>=4.6.1 in /usr/local/lib/python3.10/dist-packages (from notebook>=4.4.1->widgetsnbextension~=3.6.0->ipywidgets->-r requirements.txt (line 12)) (5.7.1)\n",
            "Requirement already satisfied: nbformat in /usr/local/lib/python3.10/dist-packages (from notebook>=4.4.1->widgetsnbextension~=3.6.0->ipywidgets->-r requirements.txt (line 12)) (5.9.2)\n",
            "Requirement already satisfied: nbconvert>=5 in /usr/local/lib/python3.10/dist-packages (from notebook>=4.4.1->widgetsnbextension~=3.6.0->ipywidgets->-r requirements.txt (line 12)) (6.5.4)\n",
            "Requirement already satisfied: nest-asyncio>=1.5 in /usr/local/lib/python3.10/dist-packages (from notebook>=4.4.1->widgetsnbextension~=3.6.0->ipywidgets->-r requirements.txt (line 12)) (1.6.0)\n",
            "Requirement already satisfied: Send2Trash>=1.8.0 in /usr/local/lib/python3.10/dist-packages (from notebook>=4.4.1->widgetsnbextension~=3.6.0->ipywidgets->-r requirements.txt (line 12)) (1.8.2)\n",
            "Requirement already satisfied: terminado>=0.8.3 in /usr/local/lib/python3.10/dist-packages (from notebook>=4.4.1->widgetsnbextension~=3.6.0->ipywidgets->-r requirements.txt (line 12)) (0.18.0)\n",
            "Requirement already satisfied: prometheus-client in /usr/local/lib/python3.10/dist-packages (from notebook>=4.4.1->widgetsnbextension~=3.6.0->ipywidgets->-r requirements.txt (line 12)) (0.19.0)\n",
            "Requirement already satisfied: nbclassic>=0.4.7 in /usr/local/lib/python3.10/dist-packages (from notebook>=4.4.1->widgetsnbextension~=3.6.0->ipywidgets->-r requirements.txt (line 12)) (1.0.0)\n",
            "Requirement already satisfied: platformdirs>=2.5 in /usr/local/lib/python3.10/dist-packages (from jupyter-core>=4.6.1->notebook>=4.4.1->widgetsnbextension~=3.6.0->ipywidgets->-r requirements.txt (line 12)) (4.1.0)\n",
            "Requirement already satisfied: jupyter-server>=1.8 in /usr/local/lib/python3.10/dist-packages (from nbclassic>=0.4.7->notebook>=4.4.1->widgetsnbextension~=3.6.0->ipywidgets->-r requirements.txt (line 12)) (1.24.0)\n",
            "Requirement already satisfied: notebook-shim>=0.2.3 in /usr/local/lib/python3.10/dist-packages (from nbclassic>=0.4.7->notebook>=4.4.1->widgetsnbextension~=3.6.0->ipywidgets->-r requirements.txt (line 12)) (0.2.3)\n",
            "Requirement already satisfied: lxml in /usr/local/lib/python3.10/dist-packages (from nbconvert>=5->notebook>=4.4.1->widgetsnbextension~=3.6.0->ipywidgets->-r requirements.txt (line 12)) (4.9.4)\n",
            "Requirement already satisfied: beautifulsoup4 in /usr/local/lib/python3.10/dist-packages (from nbconvert>=5->notebook>=4.4.1->widgetsnbextension~=3.6.0->ipywidgets->-r requirements.txt (line 12)) (4.11.2)\n",
            "Requirement already satisfied: bleach in /usr/local/lib/python3.10/dist-packages (from nbconvert>=5->notebook>=4.4.1->widgetsnbextension~=3.6.0->ipywidgets->-r requirements.txt (line 12)) (6.1.0)\n",
            "Requirement already satisfied: defusedxml in /usr/local/lib/python3.10/dist-packages (from nbconvert>=5->notebook>=4.4.1->widgetsnbextension~=3.6.0->ipywidgets->-r requirements.txt (line 12)) (0.7.1)\n",
            "Requirement already satisfied: entrypoints>=0.2.2 in /usr/local/lib/python3.10/dist-packages (from nbconvert>=5->notebook>=4.4.1->widgetsnbextension~=3.6.0->ipywidgets->-r requirements.txt (line 12)) (0.4)\n",
            "Requirement already satisfied: jupyterlab-pygments in /usr/local/lib/python3.10/dist-packages (from nbconvert>=5->notebook>=4.4.1->widgetsnbextension~=3.6.0->ipywidgets->-r requirements.txt (line 12)) (0.3.0)\n",
            "Requirement already satisfied: MarkupSafe>=2.0 in /usr/local/lib/python3.10/dist-packages (from nbconvert>=5->notebook>=4.4.1->widgetsnbextension~=3.6.0->ipywidgets->-r requirements.txt (line 12)) (2.1.4)\n",
            "Requirement already satisfied: mistune<2,>=0.8.1 in /usr/local/lib/python3.10/dist-packages (from nbconvert>=5->notebook>=4.4.1->widgetsnbextension~=3.6.0->ipywidgets->-r requirements.txt (line 12)) (0.8.4)\n",
            "Requirement already satisfied: nbclient>=0.5.0 in /usr/local/lib/python3.10/dist-packages (from nbconvert>=5->notebook>=4.4.1->widgetsnbextension~=3.6.0->ipywidgets->-r requirements.txt (line 12)) (0.9.0)\n",
            "Requirement already satisfied: pandocfilters>=1.4.1 in /usr/local/lib/python3.10/dist-packages (from nbconvert>=5->notebook>=4.4.1->widgetsnbextension~=3.6.0->ipywidgets->-r requirements.txt (line 12)) (1.5.1)\n",
            "Requirement already satisfied: tinycss2 in /usr/local/lib/python3.10/dist-packages (from nbconvert>=5->notebook>=4.4.1->widgetsnbextension~=3.6.0->ipywidgets->-r requirements.txt (line 12)) (1.2.1)\n",
            "Requirement already satisfied: fastjsonschema in /usr/local/lib/python3.10/dist-packages (from nbformat->notebook>=4.4.1->widgetsnbextension~=3.6.0->ipywidgets->-r requirements.txt (line 12)) (2.19.1)\n",
            "Requirement already satisfied: jsonschema>=2.6 in /usr/local/lib/python3.10/dist-packages (from nbformat->notebook>=4.4.1->widgetsnbextension~=3.6.0->ipywidgets->-r requirements.txt (line 12)) (4.19.2)\n",
            "Requirement already satisfied: argon2-cffi-bindings in /usr/local/lib/python3.10/dist-packages (from argon2-cffi->notebook>=4.4.1->widgetsnbextension~=3.6.0->ipywidgets->-r requirements.txt (line 12)) (21.2.0)\n",
            "Requirement already satisfied: attrs>=22.2.0 in /usr/local/lib/python3.10/dist-packages (from jsonschema>=2.6->nbformat->notebook>=4.4.1->widgetsnbextension~=3.6.0->ipywidgets->-r requirements.txt (line 12)) (23.2.0)\n",
            "Requirement already satisfied: jsonschema-specifications>=2023.03.6 in /usr/local/lib/python3.10/dist-packages (from jsonschema>=2.6->nbformat->notebook>=4.4.1->widgetsnbextension~=3.6.0->ipywidgets->-r requirements.txt (line 12)) (2023.12.1)\n",
            "Requirement already satisfied: referencing>=0.28.4 in /usr/local/lib/python3.10/dist-packages (from jsonschema>=2.6->nbformat->notebook>=4.4.1->widgetsnbextension~=3.6.0->ipywidgets->-r requirements.txt (line 12)) (0.33.0)\n",
            "Requirement already satisfied: rpds-py>=0.7.1 in /usr/local/lib/python3.10/dist-packages (from jsonschema>=2.6->nbformat->notebook>=4.4.1->widgetsnbextension~=3.6.0->ipywidgets->-r requirements.txt (line 12)) (0.17.1)\n",
            "Requirement already satisfied: anyio<4,>=3.1.0 in /usr/local/lib/python3.10/dist-packages (from jupyter-server>=1.8->nbclassic>=0.4.7->notebook>=4.4.1->widgetsnbextension~=3.6.0->ipywidgets->-r requirements.txt (line 12)) (3.7.1)\n",
            "Requirement already satisfied: websocket-client in /usr/local/lib/python3.10/dist-packages (from jupyter-server>=1.8->nbclassic>=0.4.7->notebook>=4.4.1->widgetsnbextension~=3.6.0->ipywidgets->-r requirements.txt (line 12)) (1.7.0)\n",
            "Requirement already satisfied: cffi>=1.0.1 in /usr/local/lib/python3.10/dist-packages (from argon2-cffi-bindings->argon2-cffi->notebook>=4.4.1->widgetsnbextension~=3.6.0->ipywidgets->-r requirements.txt (line 12)) (1.16.0)\n",
            "Requirement already satisfied: soupsieve>1.2 in /usr/local/lib/python3.10/dist-packages (from beautifulsoup4->nbconvert>=5->notebook>=4.4.1->widgetsnbextension~=3.6.0->ipywidgets->-r requirements.txt (line 12)) (2.5)\n",
            "Requirement already satisfied: webencodings in /usr/local/lib/python3.10/dist-packages (from bleach->nbconvert>=5->notebook>=4.4.1->widgetsnbextension~=3.6.0->ipywidgets->-r requirements.txt (line 12)) (0.5.1)\n",
            "Requirement already satisfied: sniffio>=1.1 in /usr/local/lib/python3.10/dist-packages (from anyio<4,>=3.1.0->jupyter-server>=1.8->nbclassic>=0.4.7->notebook>=4.4.1->widgetsnbextension~=3.6.0->ipywidgets->-r requirements.txt (line 12)) (1.3.0)\n",
            "Requirement already satisfied: exceptiongroup in /usr/local/lib/python3.10/dist-packages (from anyio<4,>=3.1.0->jupyter-server>=1.8->nbclassic>=0.4.7->notebook>=4.4.1->widgetsnbextension~=3.6.0->ipywidgets->-r requirements.txt (line 12)) (1.2.0)\n",
            "Requirement already satisfied: pycparser in /usr/local/lib/python3.10/dist-packages (from cffi>=1.0.1->argon2-cffi-bindings->argon2-cffi->notebook>=4.4.1->widgetsnbextension~=3.6.0->ipywidgets->-r requirements.txt (line 12)) (2.21)\n",
            "Installing collected packages: PyQt5-Qt5, json_tricks, tzdata, transforms3d, qtpy, PyQt5-sip, numpy, jedi, deprecation, anytree, qdarkstyle, pyqt5, pandas, opticalglass\n",
            "  Attempting uninstall: numpy\n",
            "    Found existing installation: numpy 1.23.5\n",
            "    Uninstalling numpy-1.23.5:\n",
            "      Successfully uninstalled numpy-1.23.5\n",
            "  Attempting uninstall: pandas\n",
            "    Found existing installation: pandas 1.5.3\n",
            "    Uninstalling pandas-1.5.3:\n",
            "      Successfully uninstalled pandas-1.5.3\n",
            "\u001b[31mERROR: pip's dependency resolver does not currently take into account all the packages that are installed. This behaviour is the source of the following dependency conflicts.\n",
            "lida 0.0.10 requires fastapi, which is not installed.\n",
            "lida 0.0.10 requires kaleido, which is not installed.\n",
            "lida 0.0.10 requires python-multipart, which is not installed.\n",
            "lida 0.0.10 requires uvicorn, which is not installed.\n",
            "bigframes 0.19.2 requires pandas<2.1.4,>=1.5.0, but you have pandas 2.2.0 which is incompatible.\n",
            "google-colab 1.0.0 requires pandas==1.5.3, but you have pandas 2.2.0 which is incompatible.\u001b[0m\u001b[31m\n",
            "\u001b[0mSuccessfully installed PyQt5-Qt5-5.15.2 PyQt5-sip-12.13.0 anytree-2.12.1 deprecation-2.1.0 jedi-0.19.1 json_tricks-3.17.3 numpy-1.26.3 opticalglass-1.0.7 pandas-2.2.0 pyqt5-5.15.10 qdarkstyle-3.2.3 qtpy-2.4.1 transforms3d-0.4.1 tzdata-2023.4\n"
          ]
        }
      ],
      "source": [
        "pip install -r requirements.txt"
      ]
    },
    {
      "cell_type": "code",
      "execution_count": 1,
      "metadata": {
        "id": "24Q6gszJAN4s"
      },
      "outputs": [],
      "source": [
        "from rayoptics import *"
      ]
    },
    {
      "cell_type": "code",
      "execution_count": 2,
      "metadata": {
        "id": "fy7Q3nWSAcOr"
      },
      "outputs": [],
      "source": [
        "from rayoptics.environment import *\n",
        "from rayoptics.mpl.interactivediagram import InteractiveDiagram\n"
      ]
    },
    {
      "cell_type": "code",
      "execution_count": 3,
      "metadata": {
        "id": "gydpcu_6Afky"
      },
      "outputs": [],
      "source": [
        "import jax.numpy as jnp\n",
        "from jax import grad, jit, vmap\n",
        "from jax import random"
      ]
    },
    {
      "cell_type": "code",
      "execution_count": 4,
      "metadata": {
        "id": "9fViQRZ-AjpW"
      },
      "outputs": [],
      "source": [
        "from rayoptics.environment import *\n",
        "import random\n",
        "from copy import deepcopy\n",
        "from scipy.optimize import minimize\n",
        "import numpy as np"
      ]
    },
    {
      "cell_type": "code",
      "execution_count": 5,
      "metadata": {
        "id": "jygh-6AHA2g0"
      },
      "outputs": [],
      "source": [
        "import jax\n",
        "import jax.numpy as jnp\n",
        "from jax import grad, jit, vmap\n",
        "from jax.numpy import sqrt, copysign, sin\n",
        "jax.config.update(\"jax_enable_x64\", True)"
      ]
    },
    {
      "cell_type": "code",
      "execution_count": 6,
      "metadata": {
        "id": "odEIUVXYEHXi"
      },
      "outputs": [],
      "source": [
        "from jax import lax"
      ]
    },
    {
      "cell_type": "code",
      "execution_count": 7,
      "metadata": {
        "id": "CJ9X1dzXA93B"
      },
      "outputs": [],
      "source": [
        "isdark = False"
      ]
    },
    {
      "cell_type": "code",
      "execution_count": 8,
      "metadata": {
        "id": "LR5dd8stBl9J"
      },
      "outputs": [],
      "source": [
        "from matplotlib.ticker import AutoMinorLocator\n",
        "from mpl_toolkits.mplot3d import Axes3D\n",
        "import plotly.graph_objects as go\n",
        "from scipy.spatial import *\n",
        "\n",
        "def visualize_rays(sm=None, max_angle=None, wv= 400.5618, x_offsets=[0], y_offsets=[0], num_rays= 1, color = 'green'):\n",
        "    \"\"\"\n",
        "    This function visualizes rays in an optical system by creating a 3D scatter plot for each ray.\n",
        "\n",
        "    Parameters:\n",
        "    sm (System): The optical system to visualize.\n",
        "    max_angle (float): The maximum incident angle, in radians.\n",
        "    wv (float): The wavelength of the rays.\n",
        "    x_offsets (list): The x-coordinates of the starting points of the rays.\n",
        "    y_offsets (list): The y-coordinates of the starting points of the rays.\n",
        "    z_offsets (list): The z-coordinates of the starting points of the rays.\n",
        "    num_rays (int): The number of rays to visualize from each starting point. The total number of rays at each starting point is num_rays^2.\n",
        "\n",
        "    Returns:\n",
        "    data (list): A list of plotly Scatter3d objects, one for each ray in the system.\n",
        "\n",
        "    The function works by iterating over each starting point and each angle offset, creating a ray at each combination.\n",
        "    It then traces the path of each ray through the system, collecting the coordinates of the ray at each point.\n",
        "    These coordinates are then used to create a 3D scatter plot of the ray, which is added to the data list.\n",
        "    The function also visualizes the intersection point of each ray with the photosensor, if it is within the bounds of the system.\n",
        "    \"\"\"\n",
        "\n",
        "    if max_angle is not None:\n",
        "         # Tan Angle Offsets\n",
        "        angle_offsets = np.linspace(-max_angle, max_angle, num_rays)\n",
        "    else:\n",
        "        angle_offsets = [0]\n",
        "\n",
        "    #Stores Figure data\n",
        "    data = []\n",
        "    # Creates each starting coordinate with the y_offset\n",
        "    # Can add extra for loops if want to have other axis\n",
        "    idx = 1\n",
        "    for x_offset in x_offsets:\n",
        "        for y_offset in y_offsets:\n",
        "          for ray in angle_offsets: # Creates each tan angle offset\n",
        "            for ray_angle in angle_offsets:  # Creates each inc angle\n",
        "                  #Sets incident angle and finds ray direction\n",
        "                  inc_angle = ray_angle\n",
        "                  si = np.sin(inc_angle)\n",
        "                  cs = np.cos(inc_angle)\n",
        "                  tn = np.tan(ray)\n",
        "\n",
        "                  st_coord = np.array([x_offset * 0.1 ,y_offset * 0.1, 0]) # Ray start Co-ord (Add offsets here to alter starting position)\n",
        "\n",
        "                  st_dir = np.array([tn,si,cs]) # Ray starting direction\n",
        "\n",
        "                  output = trace(sm, st_coord, st_dir, wvl=wv) #Traces Ray\n",
        "\n",
        "                  #Collects coordinates of traced ray for visualization\n",
        "                  pt_photosensor = output[0][-1][0]\n",
        "                  if np.abs(pt_photosensor[1]) <= 50:\n",
        "                      x = []\n",
        "                      y = []\n",
        "                      z = []\n",
        "                      z_bias = 0\n",
        "                      j = 0\n",
        "                      for pt in output[0][0::]:\n",
        "                          y.append(pt[0][1])\n",
        "                          z.append(pt[0][2]+z_bias)\n",
        "                          x.append(pt[0][0])\n",
        "                          if j < len(sm.gaps):\n",
        "                              z_bias += sm.gaps[j].thi\n",
        "                              j += 1\n",
        "\n",
        "                      #Visualizes Ray\n",
        "                      data.append(go.Scatter3d(x=x, y=z, z=y, mode='lines', line=dict(color=color, width=1), opacity=0.5, name =f\"Ray {idx}\"))\n",
        "\n",
        "                      #Visualises intersection point of rays\n",
        "                      data.append(go.Scatter3d(x=x[::], y= z[::], z=y[::], mode = 'markers', marker=dict(color='black', size=2), showlegend = False))\n",
        "\n",
        "                      idx += 1\n",
        "    return data"
      ]
    },
    {
      "cell_type": "code",
      "execution_count": 31,
      "metadata": {
        "id": "8Wp-HOpdhjCk"
      },
      "outputs": [],
      "source": [
        "def visualize_lens(sm):\n",
        "    N = 10                  # Number of dimensions\n",
        "    z_bias = sm.gaps[0].thi # Z coord of Lens\n",
        "    sd = 6                  # Grid Size\n",
        "    data = []               # Lens visualisation data\n",
        "\n",
        "    #Goes through each surface and collects mesh data\n",
        "    for i in range(1, sm.get_num_surfaces()-1):\n",
        "      mesh = [[],[],[]]\n",
        "      surf = sm.ifcs[i]\n",
        "      # sd = np.max([surf.surface_od(),sd])\n",
        "      for xj in np.linspace(-sd, sd, N):\n",
        "        for yk in np.linspace(-sd,sd, N):\n",
        "            z = surf.profile.sag(xj,yk) + z_bias\n",
        "            #if (z_bias +  sm.gaps[i].thi >= z):\n",
        "            mesh[0].append(xj)\n",
        "            mesh[1].append(yk)\n",
        "            mesh[2].append(z)\n",
        "\n",
        "      z_bias +=  sm.gaps[i].thi\n",
        "\n",
        "\n",
        "      #Prepare mesh data for Delaunay\n",
        "      x = mesh[0]\n",
        "      y = mesh[1]\n",
        "      z = mesh[2]\n",
        "\n",
        "      points = np.vstack([x, y]).T\n",
        "\n",
        "      # Perform Delaunay triangulation\n",
        "      tri = Delaunay(points)\n",
        "\n",
        "      # The indices of the triangles are stored in the `simplices` attribute\n",
        "      i, j, k = tri.simplices.T\n",
        "\n",
        "      # Adds mesh to plotly data for plotting\n",
        "      data.append(go.Mesh3d(x=x, y=z, z=y, i=i, j=j, k=k, intensity=x, colorscale='algae', opacity=1))\n",
        "\n",
        "    return data"
      ]
    },
    {
      "cell_type": "code",
      "execution_count": 32,
      "metadata": {
        "colab": {
          "base_uri": "https://localhost:8080/",
          "height": 542
        },
        "id": "eGPLeXnwBt0g",
        "outputId": "2554875b-2d6a-4ce9-c42d-b21960e1b706"
      },
      "outputs": [
        {
          "output_type": "display_data",
          "data": {
            "text/html": [
              "<html>\n",
              "<head><meta charset=\"utf-8\" /></head>\n",
              "<body>\n",
              "    <div>            <script src=\"https://cdnjs.cloudflare.com/ajax/libs/mathjax/2.7.5/MathJax.js?config=TeX-AMS-MML_SVG\"></script><script type=\"text/javascript\">if (window.MathJax && window.MathJax.Hub && window.MathJax.Hub.Config) {window.MathJax.Hub.Config({SVG: {font: \"STIX-Web\"}});}</script>                <script type=\"text/javascript\">window.PlotlyConfig = {MathJaxConfig: 'local'};</script>\n",
              "        <script charset=\"utf-8\" src=\"https://cdn.plot.ly/plotly-2.24.1.min.js\"></script>                <div id=\"b5972d7b-17be-4e13-8b7a-a616427b2fe3\" class=\"plotly-graph-div\" style=\"height:525px; width:100%;\"></div>            <script type=\"text/javascript\">                                    window.PLOTLYENV=window.PLOTLYENV || {};                                    if (document.getElementById(\"b5972d7b-17be-4e13-8b7a-a616427b2fe3\")) {                    Plotly.newPlot(                        \"b5972d7b-17be-4e13-8b7a-a616427b2fe3\",                        [{\"line\":{\"color\":\"green\",\"width\":1},\"mode\":\"lines\",\"name\":\"Ray 1\",\"opacity\":0.5,\"x\":[-6.0,-6.0,-5.644615757074145,-4.720108211187696,-4.650571718762546,-5.119481826963045,-5.181336063477536,-0.03619192643513134],\"y\":[0.0,16.57013728986245,19.835345988929753,24.76236901885455,27.677096807088333,31.790618554517387,33.260281362738496,75.8515],\"z\":[-6.0,-6.0,-5.644615757074145,-4.720108211187696,-4.650571718762546,-5.119481826963045,-5.181336063477536,-0.03619192643513134],\"type\":\"scatter3d\"},{\"marker\":{\"color\":\"black\",\"size\":2},\"mode\":\"markers\",\"showlegend\":false,\"x\":[-6.0,-6.0,-5.644615757074145,-4.720108211187696,-4.650571718762546,-5.119481826963045,-5.181336063477536,-0.03619192643513134],\"y\":[0.0,16.57013728986245,19.835345988929753,24.76236901885455,27.677096807088333,31.790618554517387,33.260281362738496,75.8515],\"z\":[-6.0,-6.0,-5.644615757074145,-4.720108211187696,-4.650571718762546,-5.119481826963045,-5.181336063477536,-0.03619192643513134],\"type\":\"scatter3d\"},{\"line\":{\"color\":\"green\",\"width\":1},\"mode\":\"lines\",\"name\":\"Ray 2\",\"opacity\":0.5,\"x\":[-6.0,-6.0,-5.587630159825234,-4.620510160636887,-4.5634026891519985,-5.0085723022100845,-5.084963944282355,0.013841660748876541],\"y\":[0.0,15.968629949369888,19.833661675587443,25.139174181914633,27.268714418136398,31.66890325857863,33.81067457417354,75.8515],\"z\":[-3.0,-3.0,-2.793815079912617,-2.3102550803184436,-2.2817013445759993,-2.5042861511050423,-2.5424819721411773,0.0069208303744382705],\"type\":\"scatter3d\"},{\"marker\":{\"color\":\"black\",\"size\":2},\"mode\":\"markers\",\"showlegend\":false,\"x\":[-6.0,-6.0,-5.587630159825234,-4.620510160636887,-4.5634026891519985,-5.0085723022100845,-5.084963944282355,0.013841660748876541],\"y\":[0.0,15.968629949369888,19.833661675587443,25.139174181914633,27.268714418136398,31.66890325857863,33.81067457417354,75.8515],\"z\":[-3.0,-3.0,-2.793815079912617,-2.3102550803184436,-2.2817013445759993,-2.5042861511050423,-2.5424819721411773,0.0069208303744382705],\"type\":\"scatter3d\"},{\"line\":{\"color\":\"green\",\"width\":1},\"mode\":\"lines\",\"name\":\"Ray 3\",\"opacity\":0.5,\"x\":[-6.0,-6.0,-5.569457494432818,-4.58999325273831,-4.537833871382089,-4.975857469647148,-5.055416872886047,0.018199540016808204],\"y\":[0.0,15.771631928326507,19.833115512394116,25.25640499512501,27.1413819007075,31.630806805876322,33.981691064636024,75.8515],\"z\":[0.0,0.0,0.0,0.0,0.0,0.0,0.0,0.0],\"type\":\"scatter3d\"},{\"marker\":{\"color\":\"black\",\"size\":2},\"mode\":\"markers\",\"showlegend\":false,\"x\":[-6.0,-6.0,-5.569457494432818,-4.58999325273831,-4.537833871382089,-4.975857469647148,-5.055416872886047,0.018199540016808204],\"y\":[0.0,15.771631928326507,19.833115512394116,25.25640499512501,27.1413819007075,31.630806805876322,33.981691064636024,75.8515],\"z\":[0.0,0.0,0.0,0.0,0.0,0.0,0.0,0.0],\"type\":\"scatter3d\"},{\"line\":{\"color\":\"green\",\"width\":1},\"mode\":\"lines\",\"name\":\"Ray 4\",\"opacity\":0.5,\"x\":[-6.0,-6.0,-5.587630159825234,-4.620510160636887,-4.5634026891519985,-5.0085723022100845,-5.084963944282355,0.013841660748876541],\"y\":[0.0,15.968629949369888,19.833661675587443,25.139174181914633,27.268714418136398,31.66890325857863,33.81067457417354,75.8515],\"z\":[3.0,3.0,2.793815079912617,2.3102550803184436,2.2817013445759993,2.5042861511050423,2.5424819721411773,-0.0069208303744382705],\"type\":\"scatter3d\"},{\"marker\":{\"color\":\"black\",\"size\":2},\"mode\":\"markers\",\"showlegend\":false,\"x\":[-6.0,-6.0,-5.587630159825234,-4.620510160636887,-4.5634026891519985,-5.0085723022100845,-5.084963944282355,0.013841660748876541],\"y\":[0.0,15.968629949369888,19.833661675587443,25.139174181914633,27.268714418136398,31.66890325857863,33.81067457417354,75.8515],\"z\":[3.0,3.0,2.793815079912617,2.3102550803184436,2.2817013445759993,2.5042861511050423,2.5424819721411773,-0.0069208303744382705],\"type\":\"scatter3d\"},{\"line\":{\"color\":\"green\",\"width\":1},\"mode\":\"lines\",\"name\":\"Ray 5\",\"opacity\":0.5,\"x\":[-6.0,-6.0,-5.644615757074145,-4.720108211187696,-4.650571718762546,-5.119481826963045,-5.181336063477536,-0.03619192643513134],\"y\":[0.0,16.57013728986245,19.835345988929753,24.76236901885455,27.677096807088333,31.790618554517387,33.260281362738496,75.8515],\"z\":[6.0,6.0,5.644615757074145,4.720108211187696,4.650571718762546,5.119481826963045,5.181336063477536,0.03619192643513134],\"type\":\"scatter3d\"},{\"marker\":{\"color\":\"black\",\"size\":2},\"mode\":\"markers\",\"showlegend\":false,\"x\":[-6.0,-6.0,-5.644615757074145,-4.720108211187696,-4.650571718762546,-5.119481826963045,-5.181336063477536,-0.03619192643513134],\"y\":[0.0,16.57013728986245,19.835345988929753,24.76236901885455,27.677096807088333,31.790618554517387,33.260281362738496,75.8515],\"z\":[6.0,6.0,5.644615757074145,4.720108211187696,4.650571718762546,5.119481826963045,5.181336063477536,0.03619192643513134],\"type\":\"scatter3d\"},{\"line\":{\"color\":\"green\",\"width\":1},\"mode\":\"lines\",\"name\":\"Ray 6\",\"opacity\":0.5,\"x\":[-3.0,-3.0,-2.793815079912617,-2.3102550803184436,-2.2817013445759993,-2.5042861511050423,-2.5424819721411773,0.0069208303744382705],\"y\":[0.0,15.968629949369888,19.833661675587443,25.139174181914633,27.268714418136398,31.66890325857863,33.81067457417354,75.8515],\"z\":[-6.0,-6.0,-5.587630159825234,-4.620510160636887,-4.5634026891519985,-5.0085723022100845,-5.084963944282355,0.013841660748876541],\"type\":\"scatter3d\"},{\"marker\":{\"color\":\"black\",\"size\":2},\"mode\":\"markers\",\"showlegend\":false,\"x\":[-3.0,-3.0,-2.793815079912617,-2.3102550803184436,-2.2817013445759993,-2.5042861511050423,-2.5424819721411773,0.0069208303744382705],\"y\":[0.0,15.968629949369888,19.833661675587443,25.139174181914633,27.268714418136398,31.66890325857863,33.81067457417354,75.8515],\"z\":[-6.0,-6.0,-5.587630159825234,-4.620510160636887,-4.5634026891519985,-5.0085723022100845,-5.084963944282355,0.013841660748876541],\"type\":\"scatter3d\"},{\"line\":{\"color\":\"green\",\"width\":1},\"mode\":\"lines\",\"name\":\"Ray 7\",\"opacity\":0.5,\"x\":[-3.0,-3.0,-2.7671290081061195,-2.2662111043565285,-2.245507479109951,-2.4578711819085566,-2.4998993246399364,0.007419115892664316],\"y\":[0.0,15.382625613805509,19.832044428140446,25.480092502627873,26.89750812221707,31.55765913558757,34.3077571846113,75.8515],\"z\":[-3.0,-3.0,-2.7671290081061195,-2.2662111043565285,-2.245507479109951,-2.4578711819085566,-2.4998993246399364,0.007419115892664316],\"type\":\"scatter3d\"},{\"marker\":{\"color\":\"black\",\"size\":2},\"mode\":\"markers\",\"showlegend\":false,\"x\":[-3.0,-3.0,-2.7671290081061195,-2.2662111043565285,-2.245507479109951,-2.4578711819085566,-2.4998993246399364,0.007419115892664316],\"y\":[0.0,15.382625613805509,19.832044428140446,25.480092502627873,26.89750812221707,31.55765913558757,34.3077571846113,75.8515],\"z\":[-3.0,-3.0,-2.7671290081061195,-2.2662111043565285,-2.245507479109951,-2.4578711819085566,-2.4998993246399364,0.007419115892664316],\"type\":\"scatter3d\"},{\"line\":{\"color\":\"green\",\"width\":1},\"mode\":\"lines\",\"name\":\"Ray 8\",\"opacity\":0.5,\"x\":[-3.0,-3.0,-2.758602226946708,-2.252606880979255,-2.2347611702569865,-2.4440284537638863,-2.486803727316324,0.004266288722853915],\"y\":[0.0,15.19053480181127,19.83151900065281,25.587036839651933,26.780341235986832,31.52243135929016,34.46356384520564,75.8515],\"z\":[0.0,0.0,0.0,0.0,0.0,0.0,0.0,0.0],\"type\":\"scatter3d\"},{\"marker\":{\"color\":\"black\",\"size\":2},\"mode\":\"markers\",\"showlegend\":false,\"x\":[-3.0,-3.0,-2.758602226946708,-2.252606880979255,-2.2347611702569865,-2.4440284537638863,-2.486803727316324,0.004266288722853915],\"y\":[0.0,15.19053480181127,19.83151900065281,25.587036839651933,26.780341235986832,31.52243135929016,34.46356384520564,75.8515],\"z\":[0.0,0.0,0.0,0.0,0.0,0.0,0.0,0.0],\"type\":\"scatter3d\"},{\"line\":{\"color\":\"green\",\"width\":1},\"mode\":\"lines\",\"name\":\"Ray 9\",\"opacity\":0.5,\"x\":[-3.0,-3.0,-2.7671290081061195,-2.2662111043565285,-2.245507479109951,-2.4578711819085566,-2.4998993246399364,0.007419115892664316],\"y\":[0.0,15.382625613805509,19.832044428140446,25.480092502627873,26.89750812221707,31.55765913558757,34.3077571846113,75.8515],\"z\":[3.0,3.0,2.7671290081061195,2.2662111043565285,2.245507479109951,2.4578711819085566,2.4998993246399364,-0.007419115892664316],\"type\":\"scatter3d\"},{\"marker\":{\"color\":\"black\",\"size\":2},\"mode\":\"markers\",\"showlegend\":false,\"x\":[-3.0,-3.0,-2.7671290081061195,-2.2662111043565285,-2.245507479109951,-2.4578711819085566,-2.4998993246399364,0.007419115892664316],\"y\":[0.0,15.382625613805509,19.832044428140446,25.480092502627873,26.89750812221707,31.55765913558757,34.3077571846113,75.8515],\"z\":[3.0,3.0,2.7671290081061195,2.2662111043565285,2.245507479109951,2.4578711819085566,2.4998993246399364,-0.007419115892664316],\"type\":\"scatter3d\"},{\"line\":{\"color\":\"green\",\"width\":1},\"mode\":\"lines\",\"name\":\"Ray 10\",\"opacity\":0.5,\"x\":[-3.0,-3.0,-2.793815079912617,-2.3102550803184436,-2.2817013445759993,-2.5042861511050423,-2.5424819721411773,0.0069208303744382705],\"y\":[0.0,15.968629949369888,19.833661675587443,25.139174181914633,27.268714418136398,31.66890325857863,33.81067457417354,75.8515],\"z\":[6.0,6.0,5.587630159825234,4.620510160636887,4.5634026891519985,5.0085723022100845,5.084963944282355,-0.013841660748876541],\"type\":\"scatter3d\"},{\"marker\":{\"color\":\"black\",\"size\":2},\"mode\":\"markers\",\"showlegend\":false,\"x\":[-3.0,-3.0,-2.793815079912617,-2.3102550803184436,-2.2817013445759993,-2.5042861511050423,-2.5424819721411773,0.0069208303744382705],\"y\":[0.0,15.968629949369888,19.833661675587443,25.139174181914633,27.268714418136398,31.66890325857863,33.81067457417354,75.8515],\"z\":[6.0,6.0,5.587630159825234,4.620510160636887,4.5634026891519985,5.0085723022100845,5.084963944282355,-0.013841660748876541],\"type\":\"scatter3d\"},{\"line\":{\"color\":\"green\",\"width\":1},\"mode\":\"lines\",\"name\":\"Ray 11\",\"opacity\":0.5,\"x\":[0.0,0.0,0.0,0.0,0.0,0.0,0.0,0.0],\"y\":[0.0,15.771631928326507,19.833115512394116,25.25640499512501,27.1413819007075,31.630806805876322,33.981691064636024,75.8515],\"z\":[-6.0,-6.0,-5.569457494432818,-4.58999325273831,-4.537833871382089,-4.975857469647148,-5.055416872886047,0.018199540016808204],\"type\":\"scatter3d\"},{\"marker\":{\"color\":\"black\",\"size\":2},\"mode\":\"markers\",\"showlegend\":false,\"x\":[0.0,0.0,0.0,0.0,0.0,0.0,0.0,0.0],\"y\":[0.0,15.771631928326507,19.833115512394116,25.25640499512501,27.1413819007075,31.630806805876322,33.981691064636024,75.8515],\"z\":[-6.0,-6.0,-5.569457494432818,-4.58999325273831,-4.537833871382089,-4.975857469647148,-5.055416872886047,0.018199540016808204],\"type\":\"scatter3d\"},{\"line\":{\"color\":\"green\",\"width\":1},\"mode\":\"lines\",\"name\":\"Ray 12\",\"opacity\":0.5,\"x\":[0.0,0.0,0.0,0.0,0.0,0.0,0.0,0.0],\"y\":[0.0,15.19053480181127,19.83151900065281,25.587036839651933,26.780341235986832,31.52243135929016,34.46356384520564,75.8515],\"z\":[-3.0,-3.0,-2.758602226946708,-2.252606880979255,-2.2347611702569865,-2.4440284537638863,-2.486803727316324,0.004266288722853915],\"type\":\"scatter3d\"},{\"marker\":{\"color\":\"black\",\"size\":2},\"mode\":\"markers\",\"showlegend\":false,\"x\":[0.0,0.0,0.0,0.0,0.0,0.0,0.0,0.0],\"y\":[0.0,15.19053480181127,19.83151900065281,25.587036839651933,26.780341235986832,31.52243135929016,34.46356384520564,75.8515],\"z\":[-3.0,-3.0,-2.758602226946708,-2.252606880979255,-2.2347611702569865,-2.4440284537638863,-2.486803727316324,0.004266288722853915],\"type\":\"scatter3d\"},{\"line\":{\"color\":\"green\",\"width\":1},\"mode\":\"lines\",\"name\":\"Ray 13\",\"opacity\":0.5,\"x\":[0.0,0.0,0.0,0.0,0.0,0.0,0.0,0.0],\"y\":[0.0,15.0,19.831,25.691,26.666,31.488,34.615,75.8515],\"z\":[0.0,0.0,0.0,0.0,0.0,0.0,0.0,0.0],\"type\":\"scatter3d\"},{\"marker\":{\"color\":\"black\",\"size\":2},\"mode\":\"markers\",\"showlegend\":false,\"x\":[0.0,0.0,0.0,0.0,0.0,0.0,0.0,0.0],\"y\":[0.0,15.0,19.831,25.691,26.666,31.488,34.615,75.8515],\"z\":[0.0,0.0,0.0,0.0,0.0,0.0,0.0,0.0],\"type\":\"scatter3d\"},{\"line\":{\"color\":\"green\",\"width\":1},\"mode\":\"lines\",\"name\":\"Ray 14\",\"opacity\":0.5,\"x\":[0.0,0.0,0.0,0.0,0.0,0.0,0.0,0.0],\"y\":[0.0,15.19053480181127,19.83151900065281,25.587036839651933,26.780341235986832,31.52243135929016,34.46356384520564,75.8515],\"z\":[3.0,3.0,2.758602226946708,2.252606880979255,2.2347611702569865,2.4440284537638863,2.486803727316324,-0.004266288722853915],\"type\":\"scatter3d\"},{\"marker\":{\"color\":\"black\",\"size\":2},\"mode\":\"markers\",\"showlegend\":false,\"x\":[0.0,0.0,0.0,0.0,0.0,0.0,0.0,0.0],\"y\":[0.0,15.19053480181127,19.83151900065281,25.587036839651933,26.780341235986832,31.52243135929016,34.46356384520564,75.8515],\"z\":[3.0,3.0,2.758602226946708,2.252606880979255,2.2347611702569865,2.4440284537638863,2.486803727316324,-0.004266288722853915],\"type\":\"scatter3d\"},{\"line\":{\"color\":\"green\",\"width\":1},\"mode\":\"lines\",\"name\":\"Ray 15\",\"opacity\":0.5,\"x\":[0.0,0.0,0.0,0.0,0.0,0.0,0.0,0.0],\"y\":[0.0,15.771631928326507,19.833115512394116,25.25640499512501,27.1413819007075,31.630806805876322,33.981691064636024,75.8515],\"z\":[6.0,6.0,5.569457494432818,4.58999325273831,4.537833871382089,4.975857469647148,5.055416872886047,-0.018199540016808204],\"type\":\"scatter3d\"},{\"marker\":{\"color\":\"black\",\"size\":2},\"mode\":\"markers\",\"showlegend\":false,\"x\":[0.0,0.0,0.0,0.0,0.0,0.0,0.0,0.0],\"y\":[0.0,15.771631928326507,19.833115512394116,25.25640499512501,27.1413819007075,31.630806805876322,33.981691064636024,75.8515],\"z\":[6.0,6.0,5.569457494432818,4.58999325273831,4.537833871382089,4.975857469647148,5.055416872886047,-0.018199540016808204],\"type\":\"scatter3d\"},{\"line\":{\"color\":\"green\",\"width\":1},\"mode\":\"lines\",\"name\":\"Ray 16\",\"opacity\":0.5,\"x\":[3.0,3.0,2.793815079912617,2.3102550803184436,2.2817013445759993,2.5042861511050423,2.5424819721411773,-0.0069208303744382705],\"y\":[0.0,15.968629949369888,19.833661675587443,25.139174181914633,27.268714418136398,31.66890325857863,33.81067457417354,75.8515],\"z\":[-6.0,-6.0,-5.587630159825234,-4.620510160636887,-4.5634026891519985,-5.0085723022100845,-5.084963944282355,0.013841660748876541],\"type\":\"scatter3d\"},{\"marker\":{\"color\":\"black\",\"size\":2},\"mode\":\"markers\",\"showlegend\":false,\"x\":[3.0,3.0,2.793815079912617,2.3102550803184436,2.2817013445759993,2.5042861511050423,2.5424819721411773,-0.0069208303744382705],\"y\":[0.0,15.968629949369888,19.833661675587443,25.139174181914633,27.268714418136398,31.66890325857863,33.81067457417354,75.8515],\"z\":[-6.0,-6.0,-5.587630159825234,-4.620510160636887,-4.5634026891519985,-5.0085723022100845,-5.084963944282355,0.013841660748876541],\"type\":\"scatter3d\"},{\"line\":{\"color\":\"green\",\"width\":1},\"mode\":\"lines\",\"name\":\"Ray 17\",\"opacity\":0.5,\"x\":[3.0,3.0,2.7671290081061195,2.2662111043565285,2.245507479109951,2.4578711819085566,2.4998993246399364,-0.007419115892664316],\"y\":[0.0,15.382625613805509,19.832044428140446,25.480092502627873,26.89750812221707,31.55765913558757,34.3077571846113,75.8515],\"z\":[-3.0,-3.0,-2.7671290081061195,-2.2662111043565285,-2.245507479109951,-2.4578711819085566,-2.4998993246399364,0.007419115892664316],\"type\":\"scatter3d\"},{\"marker\":{\"color\":\"black\",\"size\":2},\"mode\":\"markers\",\"showlegend\":false,\"x\":[3.0,3.0,2.7671290081061195,2.2662111043565285,2.245507479109951,2.4578711819085566,2.4998993246399364,-0.007419115892664316],\"y\":[0.0,15.382625613805509,19.832044428140446,25.480092502627873,26.89750812221707,31.55765913558757,34.3077571846113,75.8515],\"z\":[-3.0,-3.0,-2.7671290081061195,-2.2662111043565285,-2.245507479109951,-2.4578711819085566,-2.4998993246399364,0.007419115892664316],\"type\":\"scatter3d\"},{\"line\":{\"color\":\"green\",\"width\":1},\"mode\":\"lines\",\"name\":\"Ray 18\",\"opacity\":0.5,\"x\":[3.0,3.0,2.758602226946708,2.252606880979255,2.2347611702569865,2.4440284537638863,2.486803727316324,-0.004266288722853915],\"y\":[0.0,15.19053480181127,19.83151900065281,25.587036839651933,26.780341235986832,31.52243135929016,34.46356384520564,75.8515],\"z\":[0.0,0.0,0.0,0.0,0.0,0.0,0.0,0.0],\"type\":\"scatter3d\"},{\"marker\":{\"color\":\"black\",\"size\":2},\"mode\":\"markers\",\"showlegend\":false,\"x\":[3.0,3.0,2.758602226946708,2.252606880979255,2.2347611702569865,2.4440284537638863,2.486803727316324,-0.004266288722853915],\"y\":[0.0,15.19053480181127,19.83151900065281,25.587036839651933,26.780341235986832,31.52243135929016,34.46356384520564,75.8515],\"z\":[0.0,0.0,0.0,0.0,0.0,0.0,0.0,0.0],\"type\":\"scatter3d\"},{\"line\":{\"color\":\"green\",\"width\":1},\"mode\":\"lines\",\"name\":\"Ray 19\",\"opacity\":0.5,\"x\":[3.0,3.0,2.7671290081061195,2.2662111043565285,2.245507479109951,2.4578711819085566,2.4998993246399364,-0.007419115892664316],\"y\":[0.0,15.382625613805509,19.832044428140446,25.480092502627873,26.89750812221707,31.55765913558757,34.3077571846113,75.8515],\"z\":[3.0,3.0,2.7671290081061195,2.2662111043565285,2.245507479109951,2.4578711819085566,2.4998993246399364,-0.007419115892664316],\"type\":\"scatter3d\"},{\"marker\":{\"color\":\"black\",\"size\":2},\"mode\":\"markers\",\"showlegend\":false,\"x\":[3.0,3.0,2.7671290081061195,2.2662111043565285,2.245507479109951,2.4578711819085566,2.4998993246399364,-0.007419115892664316],\"y\":[0.0,15.382625613805509,19.832044428140446,25.480092502627873,26.89750812221707,31.55765913558757,34.3077571846113,75.8515],\"z\":[3.0,3.0,2.7671290081061195,2.2662111043565285,2.245507479109951,2.4578711819085566,2.4998993246399364,-0.007419115892664316],\"type\":\"scatter3d\"},{\"line\":{\"color\":\"green\",\"width\":1},\"mode\":\"lines\",\"name\":\"Ray 20\",\"opacity\":0.5,\"x\":[3.0,3.0,2.793815079912617,2.3102550803184436,2.2817013445759993,2.5042861511050423,2.5424819721411773,-0.0069208303744382705],\"y\":[0.0,15.968629949369888,19.833661675587443,25.139174181914633,27.268714418136398,31.66890325857863,33.81067457417354,75.8515],\"z\":[6.0,6.0,5.587630159825234,4.620510160636887,4.5634026891519985,5.0085723022100845,5.084963944282355,-0.013841660748876541],\"type\":\"scatter3d\"},{\"marker\":{\"color\":\"black\",\"size\":2},\"mode\":\"markers\",\"showlegend\":false,\"x\":[3.0,3.0,2.793815079912617,2.3102550803184436,2.2817013445759993,2.5042861511050423,2.5424819721411773,-0.0069208303744382705],\"y\":[0.0,15.968629949369888,19.833661675587443,25.139174181914633,27.268714418136398,31.66890325857863,33.81067457417354,75.8515],\"z\":[6.0,6.0,5.587630159825234,4.620510160636887,4.5634026891519985,5.0085723022100845,5.084963944282355,-0.013841660748876541],\"type\":\"scatter3d\"},{\"line\":{\"color\":\"green\",\"width\":1},\"mode\":\"lines\",\"name\":\"Ray 21\",\"opacity\":0.5,\"x\":[6.0,6.0,5.644615757074145,4.720108211187696,4.650571718762546,5.119481826963045,5.181336063477536,0.03619192643513134],\"y\":[0.0,16.57013728986245,19.835345988929753,24.76236901885455,27.677096807088333,31.790618554517387,33.260281362738496,75.8515],\"z\":[-6.0,-6.0,-5.644615757074145,-4.720108211187696,-4.650571718762546,-5.119481826963045,-5.181336063477536,-0.03619192643513134],\"type\":\"scatter3d\"},{\"marker\":{\"color\":\"black\",\"size\":2},\"mode\":\"markers\",\"showlegend\":false,\"x\":[6.0,6.0,5.644615757074145,4.720108211187696,4.650571718762546,5.119481826963045,5.181336063477536,0.03619192643513134],\"y\":[0.0,16.57013728986245,19.835345988929753,24.76236901885455,27.677096807088333,31.790618554517387,33.260281362738496,75.8515],\"z\":[-6.0,-6.0,-5.644615757074145,-4.720108211187696,-4.650571718762546,-5.119481826963045,-5.181336063477536,-0.03619192643513134],\"type\":\"scatter3d\"},{\"line\":{\"color\":\"green\",\"width\":1},\"mode\":\"lines\",\"name\":\"Ray 22\",\"opacity\":0.5,\"x\":[6.0,6.0,5.587630159825234,4.620510160636887,4.5634026891519985,5.0085723022100845,5.084963944282355,-0.013841660748876541],\"y\":[0.0,15.968629949369888,19.833661675587443,25.139174181914633,27.268714418136398,31.66890325857863,33.81067457417354,75.8515],\"z\":[-3.0,-3.0,-2.793815079912617,-2.3102550803184436,-2.2817013445759993,-2.5042861511050423,-2.5424819721411773,0.0069208303744382705],\"type\":\"scatter3d\"},{\"marker\":{\"color\":\"black\",\"size\":2},\"mode\":\"markers\",\"showlegend\":false,\"x\":[6.0,6.0,5.587630159825234,4.620510160636887,4.5634026891519985,5.0085723022100845,5.084963944282355,-0.013841660748876541],\"y\":[0.0,15.968629949369888,19.833661675587443,25.139174181914633,27.268714418136398,31.66890325857863,33.81067457417354,75.8515],\"z\":[-3.0,-3.0,-2.793815079912617,-2.3102550803184436,-2.2817013445759993,-2.5042861511050423,-2.5424819721411773,0.0069208303744382705],\"type\":\"scatter3d\"},{\"line\":{\"color\":\"green\",\"width\":1},\"mode\":\"lines\",\"name\":\"Ray 23\",\"opacity\":0.5,\"x\":[6.0,6.0,5.569457494432818,4.58999325273831,4.537833871382089,4.975857469647148,5.055416872886047,-0.018199540016808204],\"y\":[0.0,15.771631928326507,19.833115512394116,25.25640499512501,27.1413819007075,31.630806805876322,33.981691064636024,75.8515],\"z\":[0.0,0.0,0.0,0.0,0.0,0.0,0.0,0.0],\"type\":\"scatter3d\"},{\"marker\":{\"color\":\"black\",\"size\":2},\"mode\":\"markers\",\"showlegend\":false,\"x\":[6.0,6.0,5.569457494432818,4.58999325273831,4.537833871382089,4.975857469647148,5.055416872886047,-0.018199540016808204],\"y\":[0.0,15.771631928326507,19.833115512394116,25.25640499512501,27.1413819007075,31.630806805876322,33.981691064636024,75.8515],\"z\":[0.0,0.0,0.0,0.0,0.0,0.0,0.0,0.0],\"type\":\"scatter3d\"},{\"line\":{\"color\":\"green\",\"width\":1},\"mode\":\"lines\",\"name\":\"Ray 24\",\"opacity\":0.5,\"x\":[6.0,6.0,5.587630159825234,4.620510160636887,4.5634026891519985,5.0085723022100845,5.084963944282355,-0.013841660748876541],\"y\":[0.0,15.968629949369888,19.833661675587443,25.139174181914633,27.268714418136398,31.66890325857863,33.81067457417354,75.8515],\"z\":[3.0,3.0,2.793815079912617,2.3102550803184436,2.2817013445759993,2.5042861511050423,2.5424819721411773,-0.0069208303744382705],\"type\":\"scatter3d\"},{\"marker\":{\"color\":\"black\",\"size\":2},\"mode\":\"markers\",\"showlegend\":false,\"x\":[6.0,6.0,5.587630159825234,4.620510160636887,4.5634026891519985,5.0085723022100845,5.084963944282355,-0.013841660748876541],\"y\":[0.0,15.968629949369888,19.833661675587443,25.139174181914633,27.268714418136398,31.66890325857863,33.81067457417354,75.8515],\"z\":[3.0,3.0,2.793815079912617,2.3102550803184436,2.2817013445759993,2.5042861511050423,2.5424819721411773,-0.0069208303744382705],\"type\":\"scatter3d\"},{\"line\":{\"color\":\"green\",\"width\":1},\"mode\":\"lines\",\"name\":\"Ray 25\",\"opacity\":0.5,\"x\":[6.0,6.0,5.644615757074145,4.720108211187696,4.650571718762546,5.119481826963045,5.181336063477536,0.03619192643513134],\"y\":[0.0,16.57013728986245,19.835345988929753,24.76236901885455,27.677096807088333,31.790618554517387,33.260281362738496,75.8515],\"z\":[6.0,6.0,5.644615757074145,4.720108211187696,4.650571718762546,5.119481826963045,5.181336063477536,0.03619192643513134],\"type\":\"scatter3d\"},{\"marker\":{\"color\":\"black\",\"size\":2},\"mode\":\"markers\",\"showlegend\":false,\"x\":[6.0,6.0,5.644615757074145,4.720108211187696,4.650571718762546,5.119481826963045,5.181336063477536,0.03619192643513134],\"y\":[0.0,16.57013728986245,19.835345988929753,24.76236901885455,27.677096807088333,31.790618554517387,33.260281362738496,75.8515],\"z\":[6.0,6.0,5.644615757074145,4.720108211187696,4.650571718762546,5.119481826963045,5.181336063477536,0.03619192643513134],\"type\":\"scatter3d\"},{\"colorscale\":[[0.0,\"rgb(214, 249, 207)\"],[0.09090909090909091,\"rgb(186, 228, 174)\"],[0.18181818181818182,\"rgb(156, 209, 143)\"],[0.2727272727272727,\"rgb(124, 191, 115)\"],[0.36363636363636365,\"rgb(85, 174, 91)\"],[0.45454545454545453,\"rgb(37, 157, 81)\"],[0.5454545454545454,\"rgb(7, 138, 78)\"],[0.6363636363636364,\"rgb(13, 117, 71)\"],[0.7272727272727273,\"rgb(23, 95, 61)\"],[0.8181818181818182,\"rgb(25, 75, 49)\"],[0.9090909090909091,\"rgb(23, 55, 35)\"],[1.0,\"rgb(17, 36, 20)\"]],\"i\":[10,1,85,95,89,98,89,88,87,96,98,87,91,80,81,91,95,84,84,93,92,93,52,61,10,21,30,21,52,41,50,41,30,41,8,19,19,29,17,8,48,59,52,43,32,21,41,32,43,32,12,21,12,1,12,3,23,32,12,23,80,71,71,60,60,50,6,17,15,6,18,17,27,27,45,56,36,27,36,37,45,36,48,57,56,46,38,27,48,38,38,39,38,38,61,71,72,72,52,63,53,63,75,76,36,25,15,16,14,25,3,14,23,14,14,14,44,44,45,44,79,69,69,68,67,67,57,67,83,73,72,73,64,54,65,56,65,65,25,34,34,23,34,34,43,44,87,77,77,77,76,77,68,67,65,74,74,75,63,73,84,74],\"intensity\":[-6.0,-6.0,-6.0,-6.0,-6.0,-6.0,-6.0,-6.0,-6.0,-6.0,-4.666666666666667,-4.666666666666667,-4.666666666666667,-4.666666666666667,-4.666666666666667,-4.666666666666667,-4.666666666666667,-4.666666666666667,-4.666666666666667,-4.666666666666667,-3.3333333333333335,-3.3333333333333335,-3.3333333333333335,-3.3333333333333335,-3.3333333333333335,-3.3333333333333335,-3.3333333333333335,-3.3333333333333335,-3.3333333333333335,-3.3333333333333335,-2.0,-2.0,-2.0,-2.0,-2.0,-2.0,-2.0,-2.0,-2.0,-2.0,-0.666666666666667,-0.666666666666667,-0.666666666666667,-0.666666666666667,-0.666666666666667,-0.666666666666667,-0.666666666666667,-0.666666666666667,-0.666666666666667,-0.666666666666667,0.6666666666666661,0.6666666666666661,0.6666666666666661,0.6666666666666661,0.6666666666666661,0.6666666666666661,0.6666666666666661,0.6666666666666661,0.6666666666666661,0.6666666666666661,2.0,2.0,2.0,2.0,2.0,2.0,2.0,2.0,2.0,2.0,3.333333333333332,3.333333333333332,3.333333333333332,3.333333333333332,3.333333333333332,3.333333333333332,3.333333333333332,3.333333333333332,3.333333333333332,3.333333333333332,4.666666666666666,4.666666666666666,4.666666666666666,4.666666666666666,4.666666666666666,4.666666666666666,4.666666666666666,4.666666666666666,4.666666666666666,4.666666666666666,6.0,6.0,6.0,6.0,6.0,6.0,6.0,6.0,6.0,6.0],\"j\":[1,10,96,96,98,89,79,89,96,87,87,98,80,91,91,92,84,95,93,84,93,83,61,52,21,10,21,30,41,52,41,50,41,30,19,8,18,19,8,17,59,48,43,52,21,32,32,41,32,43,21,12,1,12,3,12,32,23,23,12,71,80,60,71,61,60,17,6,6,15,27,27,17,16,56,45,27,36,46,36,36,45,57,48,57,57,27,38,38,37,48,38,29,39,72,72,81,71,63,52,63,64,85,75,25,36,25,25,25,14,14,3,14,23,5,15,43,53,44,54,69,68,59,69,57,56,67,68,73,72,73,63,65,65,56,65,75,76,34,25,23,34,45,44,34,34,77,76,88,87,77,67,77,77,74,65,84,74,74,74,74,73],\"k\":[0,11,86,85,99,88,78,78,97,86,97,88,90,81,82,82,94,85,94,83,82,82,62,51,11,20,20,31,51,42,40,51,31,40,9,18,28,28,7,18,49,58,42,53,31,22,31,42,42,33,22,11,11,2,2,13,33,22,13,22,70,81,70,61,51,51,7,16,5,16,28,18,16,26,46,55,26,37,47,47,35,46,58,47,46,47,37,28,47,47,49,49,28,29,62,61,82,81,53,62,54,54,86,86,35,26,16,26,15,24,4,13,13,24,4,5,53,54,55,55,78,78,58,58,56,66,58,58,82,82,62,62,54,55,55,66,76,66,35,24,33,24,35,45,33,43,86,86,78,88,66,66,78,68,75,64,85,85,64,63,83,83],\"opacity\":1,\"x\":[-6.0,-6.0,-6.0,-6.0,-6.0,-6.0,-6.0,-6.0,-6.0,-6.0,-4.666666666666667,-4.666666666666667,-4.666666666666667,-4.666666666666667,-4.666666666666667,-4.666666666666667,-4.666666666666667,-4.666666666666667,-4.666666666666667,-4.666666666666667,-3.3333333333333335,-3.3333333333333335,-3.3333333333333335,-3.3333333333333335,-3.3333333333333335,-3.3333333333333335,-3.3333333333333335,-3.3333333333333335,-3.3333333333333335,-3.3333333333333335,-2.0,-2.0,-2.0,-2.0,-2.0,-2.0,-2.0,-2.0,-2.0,-2.0,-0.666666666666667,-0.666666666666667,-0.666666666666667,-0.666666666666667,-0.666666666666667,-0.666666666666667,-0.666666666666667,-0.666666666666667,-0.666666666666667,-0.666666666666667,0.6666666666666661,0.6666666666666661,0.6666666666666661,0.6666666666666661,0.6666666666666661,0.6666666666666661,0.6666666666666661,0.6666666666666661,0.6666666666666661,0.6666666666666661,2.0,2.0,2.0,2.0,2.0,2.0,2.0,2.0,2.0,2.0,3.333333333333332,3.333333333333332,3.333333333333332,3.333333333333332,3.333333333333332,3.333333333333332,3.333333333333332,3.333333333333332,3.333333333333332,3.333333333333332,4.666666666666666,4.666666666666666,4.666666666666666,4.666666666666666,4.666666666666666,4.666666666666666,4.666666666666666,4.666666666666666,4.666666666666666,4.666666666666666,6.0,6.0,6.0,6.0,6.0,6.0,6.0,6.0,6.0,6.0],\"y\":[16.57013728986245,16.251286102297932,16.015086926572106,15.858976962468951,15.781320502947118,15.781320502947118,15.858976962468951,16.015086926572106,16.251286102297932,16.57013728986245,16.251286102297932,15.936898194720758,15.703926135302384,15.549913175869193,15.47328944290016,15.47328944290016,15.549913175869193,15.703926135302384,15.936898194720756,16.251286102297932,16.015086926572106,15.703926135302384,15.47328944290016,15.320794933164402,15.24491926372239,15.24491926372239,15.320794933164402,15.47328944290016,15.703926135302378,16.015086926572106,15.858976962468951,15.549913175869193,15.320794933164402,15.169288121878488,15.093899158614114,15.093899158614114,15.169288121878488,15.320794933164402,15.549913175869193,15.858976962468951,15.781320502947118,15.47328944290016,15.24491926372239,15.093899158614114,15.018750062280699,15.018750062280699,15.093899158614114,15.24491926372239,15.47328944290016,15.781320502947118,15.781320502947118,15.47328944290016,15.24491926372239,15.093899158614114,15.018750062280699,15.018750062280699,15.093899158614114,15.24491926372239,15.47328944290016,15.781320502947118,15.858976962468951,15.549913175869193,15.320794933164402,15.169288121878488,15.093899158614114,15.093899158614114,15.169288121878488,15.320794933164402,15.549913175869193,15.858976962468951,16.015086926572106,15.703926135302384,15.47328944290016,15.320794933164402,15.24491926372239,15.24491926372239,15.320794933164402,15.47328944290016,15.703926135302378,16.015086926572106,16.251286102297932,15.936898194720756,15.703926135302378,15.549913175869193,15.47328944290016,15.47328944290016,15.549913175869193,15.703926135302378,15.936898194720756,16.251286102297932,16.57013728986245,16.251286102297932,16.015086926572106,15.858976962468951,15.781320502947118,15.781320502947118,15.858976962468951,16.015086926572106,16.251286102297932,16.57013728986245],\"z\":[-6.0,-4.666666666666667,-3.3333333333333335,-2.0,-0.666666666666667,0.6666666666666661,2.0,3.333333333333332,4.666666666666666,6.0,-6.0,-4.666666666666667,-3.3333333333333335,-2.0,-0.666666666666667,0.6666666666666661,2.0,3.333333333333332,4.666666666666666,6.0,-6.0,-4.666666666666667,-3.3333333333333335,-2.0,-0.666666666666667,0.6666666666666661,2.0,3.333333333333332,4.666666666666666,6.0,-6.0,-4.666666666666667,-3.3333333333333335,-2.0,-0.666666666666667,0.6666666666666661,2.0,3.333333333333332,4.666666666666666,6.0,-6.0,-4.666666666666667,-3.3333333333333335,-2.0,-0.666666666666667,0.6666666666666661,2.0,3.333333333333332,4.666666666666666,6.0,-6.0,-4.666666666666667,-3.3333333333333335,-2.0,-0.666666666666667,0.6666666666666661,2.0,3.333333333333332,4.666666666666666,6.0,-6.0,-4.666666666666667,-3.3333333333333335,-2.0,-0.666666666666667,0.6666666666666661,2.0,3.333333333333332,4.666666666666666,6.0,-6.0,-4.666666666666667,-3.3333333333333335,-2.0,-0.666666666666667,0.6666666666666661,2.0,3.333333333333332,4.666666666666666,6.0,-6.0,-4.666666666666667,-3.3333333333333335,-2.0,-0.666666666666667,0.6666666666666661,2.0,3.333333333333332,4.666666666666666,6.0,-6.0,-4.666666666666667,-3.3333333333333335,-2.0,-0.666666666666667,0.6666666666666661,2.0,3.333333333333332,4.666666666666666,6.0],\"type\":\"mesh3d\"},{\"colorscale\":[[0.0,\"rgb(214, 249, 207)\"],[0.09090909090909091,\"rgb(186, 228, 174)\"],[0.18181818181818182,\"rgb(156, 209, 143)\"],[0.2727272727272727,\"rgb(124, 191, 115)\"],[0.36363636363636365,\"rgb(85, 174, 91)\"],[0.45454545454545453,\"rgb(37, 157, 81)\"],[0.5454545454545454,\"rgb(7, 138, 78)\"],[0.6363636363636364,\"rgb(13, 117, 71)\"],[0.7272727272727273,\"rgb(23, 95, 61)\"],[0.8181818181818182,\"rgb(25, 75, 49)\"],[0.9090909090909091,\"rgb(23, 55, 35)\"],[1.0,\"rgb(17, 36, 20)\"]],\"i\":[10,1,85,95,89,98,89,88,87,96,98,87,91,80,81,91,95,84,84,93,92,93,52,61,10,21,30,21,52,41,50,41,30,41,8,19,19,29,17,8,48,59,52,43,32,21,41,32,43,32,12,21,12,1,12,3,23,32,12,23,80,71,71,60,60,50,6,17,15,6,18,17,27,27,45,56,36,27,36,37,45,36,48,57,56,46,38,27,48,38,38,39,38,38,61,71,72,72,52,63,53,63,75,76,36,25,15,16,14,25,3,14,23,14,14,14,44,44,45,44,79,69,69,68,67,67,57,67,83,73,72,73,64,54,65,56,65,65,25,34,34,23,34,34,43,44,87,77,77,77,76,77,68,67,65,74,74,75,63,73,84,74],\"intensity\":[-6.0,-6.0,-6.0,-6.0,-6.0,-6.0,-6.0,-6.0,-6.0,-6.0,-4.666666666666667,-4.666666666666667,-4.666666666666667,-4.666666666666667,-4.666666666666667,-4.666666666666667,-4.666666666666667,-4.666666666666667,-4.666666666666667,-4.666666666666667,-3.3333333333333335,-3.3333333333333335,-3.3333333333333335,-3.3333333333333335,-3.3333333333333335,-3.3333333333333335,-3.3333333333333335,-3.3333333333333335,-3.3333333333333335,-3.3333333333333335,-2.0,-2.0,-2.0,-2.0,-2.0,-2.0,-2.0,-2.0,-2.0,-2.0,-0.666666666666667,-0.666666666666667,-0.666666666666667,-0.666666666666667,-0.666666666666667,-0.666666666666667,-0.666666666666667,-0.666666666666667,-0.666666666666667,-0.666666666666667,0.6666666666666661,0.6666666666666661,0.6666666666666661,0.6666666666666661,0.6666666666666661,0.6666666666666661,0.6666666666666661,0.6666666666666661,0.6666666666666661,0.6666666666666661,2.0,2.0,2.0,2.0,2.0,2.0,2.0,2.0,2.0,2.0,3.333333333333332,3.333333333333332,3.333333333333332,3.333333333333332,3.333333333333332,3.333333333333332,3.333333333333332,3.333333333333332,3.333333333333332,3.333333333333332,4.666666666666666,4.666666666666666,4.666666666666666,4.666666666666666,4.666666666666666,4.666666666666666,4.666666666666666,4.666666666666666,4.666666666666666,4.666666666666666,6.0,6.0,6.0,6.0,6.0,6.0,6.0,6.0,6.0,6.0],\"j\":[1,10,96,96,98,89,79,89,96,87,87,98,80,91,91,92,84,95,93,84,93,83,61,52,21,10,21,30,41,52,41,50,41,30,19,8,18,19,8,17,59,48,43,52,21,32,32,41,32,43,21,12,1,12,3,12,32,23,23,12,71,80,60,71,61,60,17,6,6,15,27,27,17,16,56,45,27,36,46,36,36,45,57,48,57,57,27,38,38,37,48,38,29,39,72,72,81,71,63,52,63,64,85,75,25,36,25,25,25,14,14,3,14,23,5,15,43,53,44,54,69,68,59,69,57,56,67,68,73,72,73,63,65,65,56,65,75,76,34,25,23,34,45,44,34,34,77,76,88,87,77,67,77,77,74,65,84,74,74,74,74,73],\"k\":[0,11,86,85,99,88,78,78,97,86,97,88,90,81,82,82,94,85,94,83,82,82,62,51,11,20,20,31,51,42,40,51,31,40,9,18,28,28,7,18,49,58,42,53,31,22,31,42,42,33,22,11,11,2,2,13,33,22,13,22,70,81,70,61,51,51,7,16,5,16,28,18,16,26,46,55,26,37,47,47,35,46,58,47,46,47,37,28,47,47,49,49,28,29,62,61,82,81,53,62,54,54,86,86,35,26,16,26,15,24,4,13,13,24,4,5,53,54,55,55,78,78,58,58,56,66,58,58,82,82,62,62,54,55,55,66,76,66,35,24,33,24,35,45,33,43,86,86,78,88,66,66,78,68,75,64,85,85,64,63,83,83],\"opacity\":1,\"x\":[-6.0,-6.0,-6.0,-6.0,-6.0,-6.0,-6.0,-6.0,-6.0,-6.0,-4.666666666666667,-4.666666666666667,-4.666666666666667,-4.666666666666667,-4.666666666666667,-4.666666666666667,-4.666666666666667,-4.666666666666667,-4.666666666666667,-4.666666666666667,-3.3333333333333335,-3.3333333333333335,-3.3333333333333335,-3.3333333333333335,-3.3333333333333335,-3.3333333333333335,-3.3333333333333335,-3.3333333333333335,-3.3333333333333335,-3.3333333333333335,-2.0,-2.0,-2.0,-2.0,-2.0,-2.0,-2.0,-2.0,-2.0,-2.0,-0.666666666666667,-0.666666666666667,-0.666666666666667,-0.666666666666667,-0.666666666666667,-0.666666666666667,-0.666666666666667,-0.666666666666667,-0.666666666666667,-0.666666666666667,0.6666666666666661,0.6666666666666661,0.6666666666666661,0.6666666666666661,0.6666666666666661,0.6666666666666661,0.6666666666666661,0.6666666666666661,0.6666666666666661,0.6666666666666661,2.0,2.0,2.0,2.0,2.0,2.0,2.0,2.0,2.0,2.0,3.333333333333332,3.333333333333332,3.333333333333332,3.333333333333332,3.333333333333332,3.333333333333332,3.333333333333332,3.333333333333332,3.333333333333332,3.333333333333332,4.666666666666666,4.666666666666666,4.666666666666666,4.666666666666666,4.666666666666666,4.666666666666666,4.666666666666666,4.666666666666666,4.666666666666666,4.666666666666666,6.0,6.0,6.0,6.0,6.0,6.0,6.0,6.0,6.0,6.0],\"y\":[19.835910462125707,19.834940494038047,19.834213018056545,19.833728034107946,19.83348554214667,19.83348554214667,19.833728034107946,19.834213018056545,19.834940494038047,19.835910462125707,19.834940494038047,19.833970526077362,19.833243050191903,19.832758066309236,19.832515574379702,19.832515574379702,19.832758066309236,19.833243050191903,19.833970526077362,19.834940494038047,19.834213018056545,19.833243050191903,19.832515574379702,19.83203059054424,19.83178809863831,19.83178809863831,19.83203059054424,19.832515574379702,19.833243050191903,19.834213018056545,19.833728034107946,19.832758066309236,19.83203059054424,19.83154560674052,19.831303114850872,19.831303114850872,19.83154560674052,19.83203059054424,19.832758066309236,19.833728034107946,19.83348554214667,19.832515574379702,19.83178809863831,19.831303114850872,19.83106062296936,19.83106062296936,19.831303114850872,19.83178809863831,19.832515574379702,19.83348554214667,19.83348554214667,19.832515574379702,19.83178809863831,19.831303114850872,19.83106062296936,19.83106062296936,19.831303114850872,19.83178809863831,19.832515574379702,19.83348554214667,19.833728034107946,19.832758066309236,19.83203059054424,19.83154560674052,19.831303114850872,19.831303114850872,19.83154560674052,19.83203059054424,19.832758066309236,19.833728034107946,19.834213018056545,19.833243050191903,19.832515574379702,19.83203059054424,19.83178809863831,19.83178809863831,19.83203059054424,19.832515574379702,19.833243050191903,19.834213018056545,19.834940494038047,19.833970526077362,19.833243050191903,19.832758066309236,19.832515574379702,19.832515574379702,19.832758066309236,19.833243050191903,19.833970526077362,19.834940494038047,19.835910462125707,19.834940494038047,19.834213018056545,19.833728034107946,19.83348554214667,19.83348554214667,19.833728034107946,19.834213018056545,19.834940494038047,19.835910462125707],\"z\":[-6.0,-4.666666666666667,-3.3333333333333335,-2.0,-0.666666666666667,0.6666666666666661,2.0,3.333333333333332,4.666666666666666,6.0,-6.0,-4.666666666666667,-3.3333333333333335,-2.0,-0.666666666666667,0.6666666666666661,2.0,3.333333333333332,4.666666666666666,6.0,-6.0,-4.666666666666667,-3.3333333333333335,-2.0,-0.666666666666667,0.6666666666666661,2.0,3.333333333333332,4.666666666666666,6.0,-6.0,-4.666666666666667,-3.3333333333333335,-2.0,-0.666666666666667,0.6666666666666661,2.0,3.333333333333332,4.666666666666666,6.0,-6.0,-4.666666666666667,-3.3333333333333335,-2.0,-0.666666666666667,0.6666666666666661,2.0,3.333333333333332,4.666666666666666,6.0,-6.0,-4.666666666666667,-3.3333333333333335,-2.0,-0.666666666666667,0.6666666666666661,2.0,3.333333333333332,4.666666666666666,6.0,-6.0,-4.666666666666667,-3.3333333333333335,-2.0,-0.666666666666667,0.6666666666666661,2.0,3.333333333333332,4.666666666666666,6.0,-6.0,-4.666666666666667,-3.3333333333333335,-2.0,-0.666666666666667,0.6666666666666661,2.0,3.333333333333332,4.666666666666666,6.0,-6.0,-4.666666666666667,-3.3333333333333335,-2.0,-0.666666666666667,0.6666666666666661,2.0,3.333333333333332,4.666666666666666,6.0,-6.0,-4.666666666666667,-3.3333333333333335,-2.0,-0.666666666666667,0.6666666666666661,2.0,3.333333333333332,4.666666666666666,6.0],\"type\":\"mesh3d\"},{\"colorscale\":[[0.0,\"rgb(214, 249, 207)\"],[0.09090909090909091,\"rgb(186, 228, 174)\"],[0.18181818181818182,\"rgb(156, 209, 143)\"],[0.2727272727272727,\"rgb(124, 191, 115)\"],[0.36363636363636365,\"rgb(85, 174, 91)\"],[0.45454545454545453,\"rgb(37, 157, 81)\"],[0.5454545454545454,\"rgb(7, 138, 78)\"],[0.6363636363636364,\"rgb(13, 117, 71)\"],[0.7272727272727273,\"rgb(23, 95, 61)\"],[0.8181818181818182,\"rgb(25, 75, 49)\"],[0.9090909090909091,\"rgb(23, 55, 35)\"],[1.0,\"rgb(17, 36, 20)\"]],\"i\":[10,1,85,95,89,98,89,88,87,96,98,87,91,80,81,91,95,84,84,93,92,93,52,61,10,21,30,21,52,41,50,41,30,41,8,19,19,29,17,8,48,59,52,43,32,21,41,32,43,32,12,21,12,1,12,3,23,32,12,23,80,71,71,60,60,50,6,17,15,6,18,17,27,27,45,56,36,27,36,37,45,36,48,57,56,46,38,27,48,38,38,39,38,38,61,71,72,72,52,63,53,63,75,76,36,25,15,16,14,25,3,14,23,14,14,14,44,44,45,44,79,69,69,68,67,67,57,67,83,73,72,73,64,54,65,56,65,65,25,34,34,23,34,34,43,44,87,77,77,77,76,77,68,67,65,74,74,75,63,73,84,74],\"intensity\":[-6.0,-6.0,-6.0,-6.0,-6.0,-6.0,-6.0,-6.0,-6.0,-6.0,-4.666666666666667,-4.666666666666667,-4.666666666666667,-4.666666666666667,-4.666666666666667,-4.666666666666667,-4.666666666666667,-4.666666666666667,-4.666666666666667,-4.666666666666667,-3.3333333333333335,-3.3333333333333335,-3.3333333333333335,-3.3333333333333335,-3.3333333333333335,-3.3333333333333335,-3.3333333333333335,-3.3333333333333335,-3.3333333333333335,-3.3333333333333335,-2.0,-2.0,-2.0,-2.0,-2.0,-2.0,-2.0,-2.0,-2.0,-2.0,-0.666666666666667,-0.666666666666667,-0.666666666666667,-0.666666666666667,-0.666666666666667,-0.666666666666667,-0.666666666666667,-0.666666666666667,-0.666666666666667,-0.666666666666667,0.6666666666666661,0.6666666666666661,0.6666666666666661,0.6666666666666661,0.6666666666666661,0.6666666666666661,0.6666666666666661,0.6666666666666661,0.6666666666666661,0.6666666666666661,2.0,2.0,2.0,2.0,2.0,2.0,2.0,2.0,2.0,2.0,3.333333333333332,3.333333333333332,3.333333333333332,3.333333333333332,3.333333333333332,3.333333333333332,3.333333333333332,3.333333333333332,3.333333333333332,3.333333333333332,4.666666666666666,4.666666666666666,4.666666666666666,4.666666666666666,4.666666666666666,4.666666666666666,4.666666666666666,4.666666666666666,4.666666666666666,4.666666666666666,6.0,6.0,6.0,6.0,6.0,6.0,6.0,6.0,6.0,6.0],\"j\":[1,10,96,96,98,89,79,89,96,87,87,98,80,91,91,92,84,95,93,84,93,83,61,52,21,10,21,30,41,52,41,50,41,30,19,8,18,19,8,17,59,48,43,52,21,32,32,41,32,43,21,12,1,12,3,12,32,23,23,12,71,80,60,71,61,60,17,6,6,15,27,27,17,16,56,45,27,36,46,36,36,45,57,48,57,57,27,38,38,37,48,38,29,39,72,72,81,71,63,52,63,64,85,75,25,36,25,25,25,14,14,3,14,23,5,15,43,53,44,54,69,68,59,69,57,56,67,68,73,72,73,63,65,65,56,65,75,76,34,25,23,34,45,44,34,34,77,76,88,87,77,67,77,77,74,65,84,74,74,74,74,73],\"k\":[0,11,86,85,99,88,78,78,97,86,97,88,90,81,82,82,94,85,94,83,82,82,62,51,11,20,20,31,51,42,40,51,31,40,9,18,28,28,7,18,49,58,42,53,31,22,31,42,42,33,22,11,11,2,2,13,33,22,13,22,70,81,70,61,51,51,7,16,5,16,28,18,16,26,46,55,26,37,47,47,35,46,58,47,46,47,37,28,47,47,49,49,28,29,62,61,82,81,53,62,54,54,86,86,35,26,16,26,15,24,4,13,13,24,4,5,53,54,55,55,78,78,58,58,56,66,58,58,82,82,62,62,54,55,55,66,76,66,35,24,33,24,35,45,33,43,86,86,78,88,66,66,78,68,75,64,85,85,64,63,83,83],\"opacity\":1,\"x\":[-6.0,-6.0,-6.0,-6.0,-6.0,-6.0,-6.0,-6.0,-6.0,-6.0,-4.666666666666667,-4.666666666666667,-4.666666666666667,-4.666666666666667,-4.666666666666667,-4.666666666666667,-4.666666666666667,-4.666666666666667,-4.666666666666667,-4.666666666666667,-3.3333333333333335,-3.3333333333333335,-3.3333333333333335,-3.3333333333333335,-3.3333333333333335,-3.3333333333333335,-3.3333333333333335,-3.3333333333333335,-3.3333333333333335,-3.3333333333333335,-2.0,-2.0,-2.0,-2.0,-2.0,-2.0,-2.0,-2.0,-2.0,-2.0,-0.666666666666667,-0.666666666666667,-0.666666666666667,-0.666666666666667,-0.666666666666667,-0.666666666666667,-0.666666666666667,-0.666666666666667,-0.666666666666667,-0.666666666666667,0.6666666666666661,0.6666666666666661,0.6666666666666661,0.6666666666666661,0.6666666666666661,0.6666666666666661,0.6666666666666661,0.6666666666666661,0.6666666666666661,0.6666666666666661,2.0,2.0,2.0,2.0,2.0,2.0,2.0,2.0,2.0,2.0,3.333333333333332,3.333333333333332,3.333333333333332,3.333333333333332,3.333333333333332,3.333333333333332,3.333333333333332,3.333333333333332,3.333333333333332,3.333333333333332,4.666666666666666,4.666666666666666,4.666666666666666,4.666666666666666,4.666666666666666,4.666666666666666,4.666666666666666,4.666666666666666,4.666666666666666,4.666666666666666,6.0,6.0,6.0,6.0,6.0,6.0,6.0,6.0,6.0,6.0],\"y\":[24.171781291192534,24.479744744182977,24.708065945651175,24.85905418212547,24.934187571635352,24.934187571635352,24.85905418212547,24.708065945651175,24.479744744182977,24.171781291192534,24.479744744182977,24.78368107653684,25.009083517795403,25.15817199332526,25.232368892813597,25.232368892813597,25.15817199332526,25.009083517795403,24.78368107653684,24.479744744182977,24.708065945651175,25.009083517795403,25.232368892813597,25.380078688811285,25.453595757071557,25.453595757071557,25.380078688811285,25.232368892813597,25.009083517795403,24.708065945651175,24.85905418212547,25.15817199332526,25.380078688811285,25.52689033401888,25.599964427545455,25.599964427545455,25.52689033401888,25.380078688811285,25.15817199332526,24.85905418212547,24.934187571635352,25.232368892813597,25.453595757071557,25.599964427545455,25.672820015523296,25.672820015523296,25.599964427545455,25.453595757071557,25.232368892813597,24.934187571635352,24.934187571635352,25.232368892813597,25.453595757071557,25.599964427545455,25.672820015523296,25.672820015523296,25.599964427545455,25.453595757071557,25.232368892813597,24.934187571635352,24.85905418212547,25.15817199332526,25.380078688811285,25.52689033401888,25.599964427545455,25.599964427545455,25.52689033401888,25.380078688811285,25.15817199332526,24.85905418212547,24.708065945651175,25.009083517795403,25.232368892813597,25.380078688811285,25.453595757071557,25.453595757071557,25.380078688811285,25.232368892813597,25.009083517795403,24.708065945651175,24.479744744182977,24.78368107653684,25.009083517795403,25.15817199332526,25.232368892813597,25.232368892813597,25.15817199332526,25.009083517795403,24.78368107653684,24.479744744182977,24.171781291192534,24.479744744182977,24.708065945651175,24.85905418212547,24.934187571635352,24.934187571635352,24.85905418212547,24.708065945651175,24.479744744182977,24.171781291192534],\"z\":[-6.0,-4.666666666666667,-3.3333333333333335,-2.0,-0.666666666666667,0.6666666666666661,2.0,3.333333333333332,4.666666666666666,6.0,-6.0,-4.666666666666667,-3.3333333333333335,-2.0,-0.666666666666667,0.6666666666666661,2.0,3.333333333333332,4.666666666666666,6.0,-6.0,-4.666666666666667,-3.3333333333333335,-2.0,-0.666666666666667,0.6666666666666661,2.0,3.333333333333332,4.666666666666666,6.0,-6.0,-4.666666666666667,-3.3333333333333335,-2.0,-0.666666666666667,0.6666666666666661,2.0,3.333333333333332,4.666666666666666,6.0,-6.0,-4.666666666666667,-3.3333333333333335,-2.0,-0.666666666666667,0.6666666666666661,2.0,3.333333333333332,4.666666666666666,6.0,-6.0,-4.666666666666667,-3.3333333333333335,-2.0,-0.666666666666667,0.6666666666666661,2.0,3.333333333333332,4.666666666666666,6.0,-6.0,-4.666666666666667,-3.3333333333333335,-2.0,-0.666666666666667,0.6666666666666661,2.0,3.333333333333332,4.666666666666666,6.0,-6.0,-4.666666666666667,-3.3333333333333335,-2.0,-0.666666666666667,0.6666666666666661,2.0,3.333333333333332,4.666666666666666,6.0,-6.0,-4.666666666666667,-3.3333333333333335,-2.0,-0.666666666666667,0.6666666666666661,2.0,3.333333333333332,4.666666666666666,6.0,-6.0,-4.666666666666667,-3.3333333333333335,-2.0,-0.666666666666667,0.6666666666666661,2.0,3.333333333333332,4.666666666666666,6.0],\"type\":\"mesh3d\"},{\"colorscale\":[[0.0,\"rgb(214, 249, 207)\"],[0.09090909090909091,\"rgb(186, 228, 174)\"],[0.18181818181818182,\"rgb(156, 209, 143)\"],[0.2727272727272727,\"rgb(124, 191, 115)\"],[0.36363636363636365,\"rgb(85, 174, 91)\"],[0.45454545454545453,\"rgb(37, 157, 81)\"],[0.5454545454545454,\"rgb(7, 138, 78)\"],[0.6363636363636364,\"rgb(13, 117, 71)\"],[0.7272727272727273,\"rgb(23, 95, 61)\"],[0.8181818181818182,\"rgb(25, 75, 49)\"],[0.9090909090909091,\"rgb(23, 55, 35)\"],[1.0,\"rgb(17, 36, 20)\"]],\"i\":[10,1,85,95,89,98,89,88,87,96,98,87,91,80,81,91,95,84,84,93,92,93,52,61,10,21,30,21,52,41,50,41,30,41,8,19,19,29,17,8,48,59,52,43,32,21,41,32,43,32,12,21,12,1,12,3,23,32,12,23,80,71,71,60,60,50,6,17,15,6,18,17,27,27,45,56,36,27,36,37,45,36,48,57,56,46,38,27,48,38,38,39,38,38,61,71,72,72,52,63,53,63,75,76,36,25,15,16,14,25,3,14,23,14,14,14,44,44,45,44,79,69,69,68,67,67,57,67,83,73,72,73,64,54,65,56,65,65,25,34,34,23,34,34,43,44,87,77,77,77,76,77,68,67,65,74,74,75,63,73,84,74],\"intensity\":[-6.0,-6.0,-6.0,-6.0,-6.0,-6.0,-6.0,-6.0,-6.0,-6.0,-4.666666666666667,-4.666666666666667,-4.666666666666667,-4.666666666666667,-4.666666666666667,-4.666666666666667,-4.666666666666667,-4.666666666666667,-4.666666666666667,-4.666666666666667,-3.3333333333333335,-3.3333333333333335,-3.3333333333333335,-3.3333333333333335,-3.3333333333333335,-3.3333333333333335,-3.3333333333333335,-3.3333333333333335,-3.3333333333333335,-3.3333333333333335,-2.0,-2.0,-2.0,-2.0,-2.0,-2.0,-2.0,-2.0,-2.0,-2.0,-0.666666666666667,-0.666666666666667,-0.666666666666667,-0.666666666666667,-0.666666666666667,-0.666666666666667,-0.666666666666667,-0.666666666666667,-0.666666666666667,-0.666666666666667,0.6666666666666661,0.6666666666666661,0.6666666666666661,0.6666666666666661,0.6666666666666661,0.6666666666666661,0.6666666666666661,0.6666666666666661,0.6666666666666661,0.6666666666666661,2.0,2.0,2.0,2.0,2.0,2.0,2.0,2.0,2.0,2.0,3.333333333333332,3.333333333333332,3.333333333333332,3.333333333333332,3.333333333333332,3.333333333333332,3.333333333333332,3.333333333333332,3.333333333333332,3.333333333333332,4.666666666666666,4.666666666666666,4.666666666666666,4.666666666666666,4.666666666666666,4.666666666666666,4.666666666666666,4.666666666666666,4.666666666666666,4.666666666666666,6.0,6.0,6.0,6.0,6.0,6.0,6.0,6.0,6.0,6.0],\"j\":[1,10,96,96,98,89,79,89,96,87,87,98,80,91,91,92,84,95,93,84,93,83,61,52,21,10,21,30,41,52,41,50,41,30,19,8,18,19,8,17,59,48,43,52,21,32,32,41,32,43,21,12,1,12,3,12,32,23,23,12,71,80,60,71,61,60,17,6,6,15,27,27,17,16,56,45,27,36,46,36,36,45,57,48,57,57,27,38,38,37,48,38,29,39,72,72,81,71,63,52,63,64,85,75,25,36,25,25,25,14,14,3,14,23,5,15,43,53,44,54,69,68,59,69,57,56,67,68,73,72,73,63,65,65,56,65,75,76,34,25,23,34,45,44,34,34,77,76,88,87,77,67,77,77,74,65,84,74,74,74,74,73],\"k\":[0,11,86,85,99,88,78,78,97,86,97,88,90,81,82,82,94,85,94,83,82,82,62,51,11,20,20,31,51,42,40,51,31,40,9,18,28,28,7,18,49,58,42,53,31,22,31,42,42,33,22,11,11,2,2,13,33,22,13,22,70,81,70,61,51,51,7,16,5,16,28,18,16,26,46,55,26,37,47,47,35,46,58,47,46,47,37,28,47,47,49,49,28,29,62,61,82,81,53,62,54,54,86,86,35,26,16,26,15,24,4,13,13,24,4,5,53,54,55,55,78,78,58,58,56,66,58,58,82,82,62,62,54,55,55,66,76,66,35,24,33,24,35,45,33,43,86,86,78,88,66,66,78,68,75,64,85,85,64,63,83,83],\"opacity\":1,\"x\":[-6.0,-6.0,-6.0,-6.0,-6.0,-6.0,-6.0,-6.0,-6.0,-6.0,-4.666666666666667,-4.666666666666667,-4.666666666666667,-4.666666666666667,-4.666666666666667,-4.666666666666667,-4.666666666666667,-4.666666666666667,-4.666666666666667,-4.666666666666667,-3.3333333333333335,-3.3333333333333335,-3.3333333333333335,-3.3333333333333335,-3.3333333333333335,-3.3333333333333335,-3.3333333333333335,-3.3333333333333335,-3.3333333333333335,-3.3333333333333335,-2.0,-2.0,-2.0,-2.0,-2.0,-2.0,-2.0,-2.0,-2.0,-2.0,-0.666666666666667,-0.666666666666667,-0.666666666666667,-0.666666666666667,-0.666666666666667,-0.666666666666667,-0.666666666666667,-0.666666666666667,-0.666666666666667,-0.666666666666667,0.6666666666666661,0.6666666666666661,0.6666666666666661,0.6666666666666661,0.6666666666666661,0.6666666666666661,0.6666666666666661,0.6666666666666661,0.6666666666666661,0.6666666666666661,2.0,2.0,2.0,2.0,2.0,2.0,2.0,2.0,2.0,2.0,3.333333333333332,3.333333333333332,3.333333333333332,3.333333333333332,3.333333333333332,3.333333333333332,3.333333333333332,3.333333333333332,3.333333333333332,3.333333333333332,4.666666666666666,4.666666666666666,4.666666666666666,4.666666666666666,4.666666666666666,4.666666666666666,4.666666666666666,4.666666666666666,4.666666666666666,4.666666666666666,6.0,6.0,6.0,6.0,6.0,6.0,6.0,6.0,6.0,6.0],\"y\":[28.37698536042146,28.027710671605355,27.769604638019963,27.599299410619825,27.51466355199415,27.51466355199415,27.599299410619825,27.769604638019963,28.027710671605355,28.37698536042146,28.027710671605355,27.68427837036703,27.430366671951003,27.262773764706328,27.179469892976236,27.179469892976236,27.262773764706328,27.430366671951003,27.68427837036703,28.027710671605355,27.769604638019963,27.430366671951003,27.179469892976233,27.013828270387094,26.931483121190922,26.931483121190922,27.013828270387094,27.179469892976233,27.430366671951003,27.769604638019963,27.599299410619825,27.262773764706328,27.013828270387094,26.849450264881373,26.76772617508086,26.76772617508086,26.849450264881373,27.013828270387094,27.262773764706328,27.599299410619825,27.51466355199415,27.179469892976236,26.931483121190922,26.76772617508086,26.686307391282188,26.686307391282188,26.76772617508086,26.931483121190922,27.179469892976236,27.51466355199415,27.51466355199415,27.179469892976236,26.931483121190922,26.76772617508086,26.686307391282188,26.686307391282188,26.76772617508086,26.931483121190922,27.179469892976236,27.51466355199415,27.599299410619825,27.262773764706328,27.013828270387094,26.849450264881373,26.76772617508086,26.76772617508086,26.849450264881373,27.013828270387094,27.262773764706328,27.599299410619825,27.769604638019963,27.430366671951003,27.179469892976233,27.013828270387094,26.931483121190922,26.931483121190922,27.013828270387094,27.179469892976233,27.430366671951003,27.769604638019963,28.027710671605355,27.68427837036703,27.430366671951003,27.262773764706328,27.179469892976236,27.179469892976236,27.262773764706328,27.430366671951003,27.68427837036703,28.027710671605355,28.37698536042146,28.027710671605355,27.769604638019963,27.599299410619825,27.51466355199415,27.51466355199415,27.599299410619825,27.769604638019963,28.027710671605355,28.37698536042146],\"z\":[-6.0,-4.666666666666667,-3.3333333333333335,-2.0,-0.666666666666667,0.6666666666666661,2.0,3.333333333333332,4.666666666666666,6.0,-6.0,-4.666666666666667,-3.3333333333333335,-2.0,-0.666666666666667,0.6666666666666661,2.0,3.333333333333332,4.666666666666666,6.0,-6.0,-4.666666666666667,-3.3333333333333335,-2.0,-0.666666666666667,0.6666666666666661,2.0,3.333333333333332,4.666666666666666,6.0,-6.0,-4.666666666666667,-3.3333333333333335,-2.0,-0.666666666666667,0.6666666666666661,2.0,3.333333333333332,4.666666666666666,6.0,-6.0,-4.666666666666667,-3.3333333333333335,-2.0,-0.666666666666667,0.6666666666666661,2.0,3.333333333333332,4.666666666666666,6.0,-6.0,-4.666666666666667,-3.3333333333333335,-2.0,-0.666666666666667,0.6666666666666661,2.0,3.333333333333332,4.666666666666666,6.0,-6.0,-4.666666666666667,-3.3333333333333335,-2.0,-0.666666666666667,0.6666666666666661,2.0,3.333333333333332,4.666666666666666,6.0,-6.0,-4.666666666666667,-3.3333333333333335,-2.0,-0.666666666666667,0.6666666666666661,2.0,3.333333333333332,4.666666666666666,6.0,-6.0,-4.666666666666667,-3.3333333333333335,-2.0,-0.666666666666667,0.6666666666666661,2.0,3.333333333333332,4.666666666666666,6.0,-6.0,-4.666666666666667,-3.3333333333333335,-2.0,-0.666666666666667,0.6666666666666661,2.0,3.333333333333332,4.666666666666666,6.0],\"type\":\"mesh3d\"},{\"colorscale\":[[0.0,\"rgb(214, 249, 207)\"],[0.09090909090909091,\"rgb(186, 228, 174)\"],[0.18181818181818182,\"rgb(156, 209, 143)\"],[0.2727272727272727,\"rgb(124, 191, 115)\"],[0.36363636363636365,\"rgb(85, 174, 91)\"],[0.45454545454545453,\"rgb(37, 157, 81)\"],[0.5454545454545454,\"rgb(7, 138, 78)\"],[0.6363636363636364,\"rgb(13, 117, 71)\"],[0.7272727272727273,\"rgb(23, 95, 61)\"],[0.8181818181818182,\"rgb(25, 75, 49)\"],[0.9090909090909091,\"rgb(23, 55, 35)\"],[1.0,\"rgb(17, 36, 20)\"]],\"i\":[10,1,85,95,89,98,89,88,87,96,98,87,91,80,81,91,95,84,84,93,92,93,52,61,10,21,30,21,52,41,50,41,30,41,8,19,19,29,17,8,48,59,52,43,32,21,41,32,43,32,12,21,12,1,12,3,23,32,12,23,80,71,71,60,60,50,6,17,15,6,18,17,27,27,45,56,36,27,36,37,45,36,48,57,56,46,38,27,48,38,38,39,38,38,61,71,72,72,52,63,53,63,75,76,36,25,15,16,14,25,3,14,23,14,14,14,44,44,45,44,79,69,69,68,67,67,57,67,83,73,72,73,64,54,65,56,65,65,25,34,34,23,34,34,43,44,87,77,77,77,76,77,68,67,65,74,74,75,63,73,84,74],\"intensity\":[-6.0,-6.0,-6.0,-6.0,-6.0,-6.0,-6.0,-6.0,-6.0,-6.0,-4.666666666666667,-4.666666666666667,-4.666666666666667,-4.666666666666667,-4.666666666666667,-4.666666666666667,-4.666666666666667,-4.666666666666667,-4.666666666666667,-4.666666666666667,-3.3333333333333335,-3.3333333333333335,-3.3333333333333335,-3.3333333333333335,-3.3333333333333335,-3.3333333333333335,-3.3333333333333335,-3.3333333333333335,-3.3333333333333335,-3.3333333333333335,-2.0,-2.0,-2.0,-2.0,-2.0,-2.0,-2.0,-2.0,-2.0,-2.0,-0.666666666666667,-0.666666666666667,-0.666666666666667,-0.666666666666667,-0.666666666666667,-0.666666666666667,-0.666666666666667,-0.666666666666667,-0.666666666666667,-0.666666666666667,0.6666666666666661,0.6666666666666661,0.6666666666666661,0.6666666666666661,0.6666666666666661,0.6666666666666661,0.6666666666666661,0.6666666666666661,0.6666666666666661,0.6666666666666661,2.0,2.0,2.0,2.0,2.0,2.0,2.0,2.0,2.0,2.0,3.333333333333332,3.333333333333332,3.333333333333332,3.333333333333332,3.333333333333332,3.333333333333332,3.333333333333332,3.333333333333332,3.333333333333332,3.333333333333332,4.666666666666666,4.666666666666666,4.666666666666666,4.666666666666666,4.666666666666666,4.666666666666666,4.666666666666666,4.666666666666666,4.666666666666666,4.666666666666666,6.0,6.0,6.0,6.0,6.0,6.0,6.0,6.0,6.0,6.0],\"j\":[1,10,96,96,98,89,79,89,96,87,87,98,80,91,91,92,84,95,93,84,93,83,61,52,21,10,21,30,41,52,41,50,41,30,19,8,18,19,8,17,59,48,43,52,21,32,32,41,32,43,21,12,1,12,3,12,32,23,23,12,71,80,60,71,61,60,17,6,6,15,27,27,17,16,56,45,27,36,46,36,36,45,57,48,57,57,27,38,38,37,48,38,29,39,72,72,81,71,63,52,63,64,85,75,25,36,25,25,25,14,14,3,14,23,5,15,43,53,44,54,69,68,59,69,57,56,67,68,73,72,73,63,65,65,56,65,75,76,34,25,23,34,45,44,34,34,77,76,88,87,77,67,77,77,74,65,84,74,74,74,74,73],\"k\":[0,11,86,85,99,88,78,78,97,86,97,88,90,81,82,82,94,85,94,83,82,82,62,51,11,20,20,31,51,42,40,51,31,40,9,18,28,28,7,18,49,58,42,53,31,22,31,42,42,33,22,11,11,2,2,13,33,22,13,22,70,81,70,61,51,51,7,16,5,16,28,18,16,26,46,55,26,37,47,47,35,46,58,47,46,47,37,28,47,47,49,49,28,29,62,61,82,81,53,62,54,54,86,86,35,26,16,26,15,24,4,13,13,24,4,5,53,54,55,55,78,78,58,58,56,66,58,58,82,82,62,62,54,55,55,66,76,66,35,24,33,24,35,45,33,43,86,86,78,88,66,66,78,68,75,64,85,85,64,63,83,83],\"opacity\":1,\"x\":[-6.0,-6.0,-6.0,-6.0,-6.0,-6.0,-6.0,-6.0,-6.0,-6.0,-4.666666666666667,-4.666666666666667,-4.666666666666667,-4.666666666666667,-4.666666666666667,-4.666666666666667,-4.666666666666667,-4.666666666666667,-4.666666666666667,-4.666666666666667,-3.3333333333333335,-3.3333333333333335,-3.3333333333333335,-3.3333333333333335,-3.3333333333333335,-3.3333333333333335,-3.3333333333333335,-3.3333333333333335,-3.3333333333333335,-3.3333333333333335,-2.0,-2.0,-2.0,-2.0,-2.0,-2.0,-2.0,-2.0,-2.0,-2.0,-0.666666666666667,-0.666666666666667,-0.666666666666667,-0.666666666666667,-0.666666666666667,-0.666666666666667,-0.666666666666667,-0.666666666666667,-0.666666666666667,-0.666666666666667,0.6666666666666661,0.6666666666666661,0.6666666666666661,0.6666666666666661,0.6666666666666661,0.6666666666666661,0.6666666666666661,0.6666666666666661,0.6666666666666661,0.6666666666666661,2.0,2.0,2.0,2.0,2.0,2.0,2.0,2.0,2.0,2.0,3.333333333333332,3.333333333333332,3.333333333333332,3.333333333333332,3.333333333333332,3.333333333333332,3.333333333333332,3.333333333333332,3.333333333333332,3.333333333333332,4.666666666666666,4.666666666666666,4.666666666666666,4.666666666666666,4.666666666666666,4.666666666666666,4.666666666666666,4.666666666666666,4.666666666666666,4.666666666666666,6.0,6.0,6.0,6.0,6.0,6.0,6.0,6.0,6.0,6.0],\"y\":[31.903939589796792,31.821620028476463,31.759931776543098,31.718830708144523,31.698287493368483,31.698287493368483,31.718830708144523,31.759931776543098,31.821620028476463,31.903939589796792,31.821620028476463,31.739378801377015,31.67774915357583,31.63668708506924,31.616163349429797,31.616163349429797,31.63668708506924,31.67774915357583,31.739378801377015,31.821620028476463,31.759931776543098,31.67774915357583,31.616163349429797,31.575130458095643,31.5546212955,31.5546212955,31.575130458095643,31.616163349429797,31.67774915357583,31.759931776543098,31.718830708144523,31.63668708506924,31.575130458095643,31.534116983691522,31.51361751922991,31.51361751922991,31.534116983691522,31.575130458095643,31.63668708506924,31.718830708144523,31.698287493368483,31.616163349429797,31.5546212955,31.51361751922991,31.49312289867898,31.49312289867898,31.51361751922991,31.5546212955,31.616163349429797,31.698287493368483,31.698287493368483,31.616163349429797,31.5546212955,31.51361751922991,31.49312289867898,31.49312289867898,31.51361751922991,31.5546212955,31.616163349429797,31.698287493368483,31.718830708144523,31.63668708506924,31.575130458095643,31.534116983691522,31.51361751922991,31.51361751922991,31.534116983691522,31.575130458095643,31.63668708506924,31.718830708144523,31.759931776543098,31.67774915357583,31.616163349429797,31.575130458095643,31.5546212955,31.5546212955,31.575130458095643,31.616163349429797,31.67774915357583,31.759931776543098,31.821620028476463,31.739378801377015,31.67774915357583,31.63668708506924,31.616163349429797,31.616163349429797,31.63668708506924,31.67774915357583,31.739378801377015,31.821620028476463,31.903939589796792,31.821620028476463,31.759931776543098,31.718830708144523,31.698287493368483,31.698287493368483,31.718830708144523,31.759931776543098,31.821620028476463,31.903939589796792],\"z\":[-6.0,-4.666666666666667,-3.3333333333333335,-2.0,-0.666666666666667,0.6666666666666661,2.0,3.333333333333332,4.666666666666666,6.0,-6.0,-4.666666666666667,-3.3333333333333335,-2.0,-0.666666666666667,0.6666666666666661,2.0,3.333333333333332,4.666666666666666,6.0,-6.0,-4.666666666666667,-3.3333333333333335,-2.0,-0.666666666666667,0.6666666666666661,2.0,3.333333333333332,4.666666666666666,6.0,-6.0,-4.666666666666667,-3.3333333333333335,-2.0,-0.666666666666667,0.6666666666666661,2.0,3.333333333333332,4.666666666666666,6.0,-6.0,-4.666666666666667,-3.3333333333333335,-2.0,-0.666666666666667,0.6666666666666661,2.0,3.333333333333332,4.666666666666666,6.0,-6.0,-4.666666666666667,-3.3333333333333335,-2.0,-0.666666666666667,0.6666666666666661,2.0,3.333333333333332,4.666666666666666,6.0,-6.0,-4.666666666666667,-3.3333333333333335,-2.0,-0.666666666666667,0.6666666666666661,2.0,3.333333333333332,4.666666666666666,6.0,-6.0,-4.666666666666667,-3.3333333333333335,-2.0,-0.666666666666667,0.6666666666666661,2.0,3.333333333333332,4.666666666666666,6.0,-6.0,-4.666666666666667,-3.3333333333333335,-2.0,-0.666666666666667,0.6666666666666661,2.0,3.333333333333332,4.666666666666666,6.0,-6.0,-4.666666666666667,-3.3333333333333335,-2.0,-0.666666666666667,0.6666666666666661,2.0,3.333333333333332,4.666666666666666,6.0],\"type\":\"mesh3d\"},{\"colorscale\":[[0.0,\"rgb(214, 249, 207)\"],[0.09090909090909091,\"rgb(186, 228, 174)\"],[0.18181818181818182,\"rgb(156, 209, 143)\"],[0.2727272727272727,\"rgb(124, 191, 115)\"],[0.36363636363636365,\"rgb(85, 174, 91)\"],[0.45454545454545453,\"rgb(37, 157, 81)\"],[0.5454545454545454,\"rgb(7, 138, 78)\"],[0.6363636363636364,\"rgb(13, 117, 71)\"],[0.7272727272727273,\"rgb(23, 95, 61)\"],[0.8181818181818182,\"rgb(25, 75, 49)\"],[0.9090909090909091,\"rgb(23, 55, 35)\"],[1.0,\"rgb(17, 36, 20)\"]],\"i\":[10,1,85,95,89,98,89,88,87,96,98,87,91,80,81,91,95,84,84,93,92,93,52,61,10,21,30,21,52,41,50,41,30,41,8,19,19,29,17,8,48,59,52,43,32,21,41,32,43,32,12,21,12,1,12,3,23,32,12,23,80,71,71,60,60,50,6,17,15,6,18,17,27,27,45,56,36,27,36,37,45,36,48,57,56,46,38,27,48,38,38,39,38,38,61,71,72,72,52,63,53,63,75,76,36,25,15,16,14,25,3,14,23,14,14,14,44,44,45,44,79,69,69,68,67,67,57,67,83,73,72,73,64,54,65,56,65,65,25,34,34,23,34,34,43,44,87,77,77,77,76,77,68,67,65,74,74,75,63,73,84,74],\"intensity\":[-6.0,-6.0,-6.0,-6.0,-6.0,-6.0,-6.0,-6.0,-6.0,-6.0,-4.666666666666667,-4.666666666666667,-4.666666666666667,-4.666666666666667,-4.666666666666667,-4.666666666666667,-4.666666666666667,-4.666666666666667,-4.666666666666667,-4.666666666666667,-3.3333333333333335,-3.3333333333333335,-3.3333333333333335,-3.3333333333333335,-3.3333333333333335,-3.3333333333333335,-3.3333333333333335,-3.3333333333333335,-3.3333333333333335,-3.3333333333333335,-2.0,-2.0,-2.0,-2.0,-2.0,-2.0,-2.0,-2.0,-2.0,-2.0,-0.666666666666667,-0.666666666666667,-0.666666666666667,-0.666666666666667,-0.666666666666667,-0.666666666666667,-0.666666666666667,-0.666666666666667,-0.666666666666667,-0.666666666666667,0.6666666666666661,0.6666666666666661,0.6666666666666661,0.6666666666666661,0.6666666666666661,0.6666666666666661,0.6666666666666661,0.6666666666666661,0.6666666666666661,0.6666666666666661,2.0,2.0,2.0,2.0,2.0,2.0,2.0,2.0,2.0,2.0,3.333333333333332,3.333333333333332,3.333333333333332,3.333333333333332,3.333333333333332,3.333333333333332,3.333333333333332,3.333333333333332,3.333333333333332,3.333333333333332,4.666666666666666,4.666666666666666,4.666666666666666,4.666666666666666,4.666666666666666,4.666666666666666,4.666666666666666,4.666666666666666,4.666666666666666,4.666666666666666,6.0,6.0,6.0,6.0,6.0,6.0,6.0,6.0,6.0,6.0],\"j\":[1,10,96,96,98,89,79,89,96,87,87,98,80,91,91,92,84,95,93,84,93,83,61,52,21,10,21,30,41,52,41,50,41,30,19,8,18,19,8,17,59,48,43,52,21,32,32,41,32,43,21,12,1,12,3,12,32,23,23,12,71,80,60,71,61,60,17,6,6,15,27,27,17,16,56,45,27,36,46,36,36,45,57,48,57,57,27,38,38,37,48,38,29,39,72,72,81,71,63,52,63,64,85,75,25,36,25,25,25,14,14,3,14,23,5,15,43,53,44,54,69,68,59,69,57,56,67,68,73,72,73,63,65,65,56,65,75,76,34,25,23,34,45,44,34,34,77,76,88,87,77,67,77,77,74,65,84,74,74,74,74,73],\"k\":[0,11,86,85,99,88,78,78,97,86,97,88,90,81,82,82,94,85,94,83,82,82,62,51,11,20,20,31,51,42,40,51,31,40,9,18,28,28,7,18,49,58,42,53,31,22,31,42,42,33,22,11,11,2,2,13,33,22,13,22,70,81,70,61,51,51,7,16,5,16,28,18,16,26,46,55,26,37,47,47,35,46,58,47,46,47,37,28,47,47,49,49,28,29,62,61,82,81,53,62,54,54,86,86,35,26,16,26,15,24,4,13,13,24,4,5,53,54,55,55,78,78,58,58,56,66,58,58,82,82,62,62,54,55,55,66,76,66,35,24,33,24,35,45,33,43,86,86,78,88,66,66,78,68,75,64,85,85,64,63,83,83],\"opacity\":1,\"x\":[-6.0,-6.0,-6.0,-6.0,-6.0,-6.0,-6.0,-6.0,-6.0,-6.0,-4.666666666666667,-4.666666666666667,-4.666666666666667,-4.666666666666667,-4.666666666666667,-4.666666666666667,-4.666666666666667,-4.666666666666667,-4.666666666666667,-4.666666666666667,-3.3333333333333335,-3.3333333333333335,-3.3333333333333335,-3.3333333333333335,-3.3333333333333335,-3.3333333333333335,-3.3333333333333335,-3.3333333333333335,-3.3333333333333335,-3.3333333333333335,-2.0,-2.0,-2.0,-2.0,-2.0,-2.0,-2.0,-2.0,-2.0,-2.0,-0.666666666666667,-0.666666666666667,-0.666666666666667,-0.666666666666667,-0.666666666666667,-0.666666666666667,-0.666666666666667,-0.666666666666667,-0.666666666666667,-0.666666666666667,0.6666666666666661,0.6666666666666661,0.6666666666666661,0.6666666666666661,0.6666666666666661,0.6666666666666661,0.6666666666666661,0.6666666666666661,0.6666666666666661,0.6666666666666661,2.0,2.0,2.0,2.0,2.0,2.0,2.0,2.0,2.0,2.0,3.333333333333332,3.333333333333332,3.333333333333332,3.333333333333332,3.333333333333332,3.333333333333332,3.333333333333332,3.333333333333332,3.333333333333332,3.333333333333332,4.666666666666666,4.666666666666666,4.666666666666666,4.666666666666666,4.666666666666666,4.666666666666666,4.666666666666666,4.666666666666666,4.666666666666666,4.666666666666666,6.0,6.0,6.0,6.0,6.0,6.0,6.0,6.0,6.0,6.0],\"y\":[32.775885999265725,33.15325795640233,33.43144790546628,33.61470247333766,33.7056867547289,33.7056867547289,33.61470247333766,33.43144790546628,33.15325795640233,32.775885999265725,33.15325795640233,33.52329154321281,33.79625030618388,33.9761382207965,34.06547376062536,34.06547376062536,33.9761382207965,33.79625030618388,33.52329154321281,33.15325795640233,33.43144790546628,33.79625030618388,34.06547376062536,34.24295501701766,34.33111118227635,34.33111118227635,34.24295501701766,34.06547376062536,33.79625030618388,33.43144790546628,33.61470247333766,33.9761382207965,34.24295501701766,34.41888448203919,34.5062798617927,34.5062798617927,34.41888448203919,34.24295501701766,33.9761382207965,33.61470247333766,33.7056867547289,34.06547376062536,34.33111118227635,34.5062798617927,34.59330216146309,34.59330216146309,34.5062798617927,34.33111118227635,34.06547376062536,33.7056867547289,33.7056867547289,34.06547376062536,34.33111118227635,34.5062798617927,34.59330216146309,34.59330216146309,34.5062798617927,34.33111118227635,34.06547376062536,33.7056867547289,33.61470247333766,33.9761382207965,34.24295501701766,34.41888448203919,34.5062798617927,34.5062798617927,34.41888448203919,34.24295501701766,33.9761382207965,33.61470247333766,33.43144790546628,33.79625030618388,34.06547376062536,34.24295501701766,34.33111118227635,34.33111118227635,34.24295501701766,34.06547376062536,33.79625030618388,33.43144790546628,33.15325795640233,33.52329154321281,33.79625030618388,33.9761382207965,34.06547376062536,34.06547376062536,33.9761382207965,33.79625030618388,33.52329154321281,33.15325795640233,32.775885999265725,33.15325795640233,33.43144790546628,33.61470247333766,33.7056867547289,33.7056867547289,33.61470247333766,33.43144790546628,33.15325795640233,32.775885999265725],\"z\":[-6.0,-4.666666666666667,-3.3333333333333335,-2.0,-0.666666666666667,0.6666666666666661,2.0,3.333333333333332,4.666666666666666,6.0,-6.0,-4.666666666666667,-3.3333333333333335,-2.0,-0.666666666666667,0.6666666666666661,2.0,3.333333333333332,4.666666666666666,6.0,-6.0,-4.666666666666667,-3.3333333333333335,-2.0,-0.666666666666667,0.6666666666666661,2.0,3.333333333333332,4.666666666666666,6.0,-6.0,-4.666666666666667,-3.3333333333333335,-2.0,-0.666666666666667,0.6666666666666661,2.0,3.333333333333332,4.666666666666666,6.0,-6.0,-4.666666666666667,-3.3333333333333335,-2.0,-0.666666666666667,0.6666666666666661,2.0,3.333333333333332,4.666666666666666,6.0,-6.0,-4.666666666666667,-3.3333333333333335,-2.0,-0.666666666666667,0.6666666666666661,2.0,3.333333333333332,4.666666666666666,6.0,-6.0,-4.666666666666667,-3.3333333333333335,-2.0,-0.666666666666667,0.6666666666666661,2.0,3.333333333333332,4.666666666666666,6.0,-6.0,-4.666666666666667,-3.3333333333333335,-2.0,-0.666666666666667,0.6666666666666661,2.0,3.333333333333332,4.666666666666666,6.0,-6.0,-4.666666666666667,-3.3333333333333335,-2.0,-0.666666666666667,0.6666666666666661,2.0,3.333333333333332,4.666666666666666,6.0,-6.0,-4.666666666666667,-3.3333333333333335,-2.0,-0.666666666666667,0.6666666666666661,2.0,3.333333333333332,4.666666666666666,6.0],\"type\":\"mesh3d\"}],                        {\"template\":{\"data\":{\"histogram2dcontour\":[{\"type\":\"histogram2dcontour\",\"colorbar\":{\"outlinewidth\":0,\"ticks\":\"\"},\"colorscale\":[[0.0,\"#0d0887\"],[0.1111111111111111,\"#46039f\"],[0.2222222222222222,\"#7201a8\"],[0.3333333333333333,\"#9c179e\"],[0.4444444444444444,\"#bd3786\"],[0.5555555555555556,\"#d8576b\"],[0.6666666666666666,\"#ed7953\"],[0.7777777777777778,\"#fb9f3a\"],[0.8888888888888888,\"#fdca26\"],[1.0,\"#f0f921\"]]}],\"choropleth\":[{\"type\":\"choropleth\",\"colorbar\":{\"outlinewidth\":0,\"ticks\":\"\"}}],\"histogram2d\":[{\"type\":\"histogram2d\",\"colorbar\":{\"outlinewidth\":0,\"ticks\":\"\"},\"colorscale\":[[0.0,\"#0d0887\"],[0.1111111111111111,\"#46039f\"],[0.2222222222222222,\"#7201a8\"],[0.3333333333333333,\"#9c179e\"],[0.4444444444444444,\"#bd3786\"],[0.5555555555555556,\"#d8576b\"],[0.6666666666666666,\"#ed7953\"],[0.7777777777777778,\"#fb9f3a\"],[0.8888888888888888,\"#fdca26\"],[1.0,\"#f0f921\"]]}],\"heatmap\":[{\"type\":\"heatmap\",\"colorbar\":{\"outlinewidth\":0,\"ticks\":\"\"},\"colorscale\":[[0.0,\"#0d0887\"],[0.1111111111111111,\"#46039f\"],[0.2222222222222222,\"#7201a8\"],[0.3333333333333333,\"#9c179e\"],[0.4444444444444444,\"#bd3786\"],[0.5555555555555556,\"#d8576b\"],[0.6666666666666666,\"#ed7953\"],[0.7777777777777778,\"#fb9f3a\"],[0.8888888888888888,\"#fdca26\"],[1.0,\"#f0f921\"]]}],\"heatmapgl\":[{\"type\":\"heatmapgl\",\"colorbar\":{\"outlinewidth\":0,\"ticks\":\"\"},\"colorscale\":[[0.0,\"#0d0887\"],[0.1111111111111111,\"#46039f\"],[0.2222222222222222,\"#7201a8\"],[0.3333333333333333,\"#9c179e\"],[0.4444444444444444,\"#bd3786\"],[0.5555555555555556,\"#d8576b\"],[0.6666666666666666,\"#ed7953\"],[0.7777777777777778,\"#fb9f3a\"],[0.8888888888888888,\"#fdca26\"],[1.0,\"#f0f921\"]]}],\"contourcarpet\":[{\"type\":\"contourcarpet\",\"colorbar\":{\"outlinewidth\":0,\"ticks\":\"\"}}],\"contour\":[{\"type\":\"contour\",\"colorbar\":{\"outlinewidth\":0,\"ticks\":\"\"},\"colorscale\":[[0.0,\"#0d0887\"],[0.1111111111111111,\"#46039f\"],[0.2222222222222222,\"#7201a8\"],[0.3333333333333333,\"#9c179e\"],[0.4444444444444444,\"#bd3786\"],[0.5555555555555556,\"#d8576b\"],[0.6666666666666666,\"#ed7953\"],[0.7777777777777778,\"#fb9f3a\"],[0.8888888888888888,\"#fdca26\"],[1.0,\"#f0f921\"]]}],\"surface\":[{\"type\":\"surface\",\"colorbar\":{\"outlinewidth\":0,\"ticks\":\"\"},\"colorscale\":[[0.0,\"#0d0887\"],[0.1111111111111111,\"#46039f\"],[0.2222222222222222,\"#7201a8\"],[0.3333333333333333,\"#9c179e\"],[0.4444444444444444,\"#bd3786\"],[0.5555555555555556,\"#d8576b\"],[0.6666666666666666,\"#ed7953\"],[0.7777777777777778,\"#fb9f3a\"],[0.8888888888888888,\"#fdca26\"],[1.0,\"#f0f921\"]]}],\"mesh3d\":[{\"type\":\"mesh3d\",\"colorbar\":{\"outlinewidth\":0,\"ticks\":\"\"}}],\"scatter\":[{\"fillpattern\":{\"fillmode\":\"overlay\",\"size\":10,\"solidity\":0.2},\"type\":\"scatter\"}],\"parcoords\":[{\"type\":\"parcoords\",\"line\":{\"colorbar\":{\"outlinewidth\":0,\"ticks\":\"\"}}}],\"scatterpolargl\":[{\"type\":\"scatterpolargl\",\"marker\":{\"colorbar\":{\"outlinewidth\":0,\"ticks\":\"\"}}}],\"bar\":[{\"error_x\":{\"color\":\"#2a3f5f\"},\"error_y\":{\"color\":\"#2a3f5f\"},\"marker\":{\"line\":{\"color\":\"#E5ECF6\",\"width\":0.5},\"pattern\":{\"fillmode\":\"overlay\",\"size\":10,\"solidity\":0.2}},\"type\":\"bar\"}],\"scattergeo\":[{\"type\":\"scattergeo\",\"marker\":{\"colorbar\":{\"outlinewidth\":0,\"ticks\":\"\"}}}],\"scatterpolar\":[{\"type\":\"scatterpolar\",\"marker\":{\"colorbar\":{\"outlinewidth\":0,\"ticks\":\"\"}}}],\"histogram\":[{\"marker\":{\"pattern\":{\"fillmode\":\"overlay\",\"size\":10,\"solidity\":0.2}},\"type\":\"histogram\"}],\"scattergl\":[{\"type\":\"scattergl\",\"marker\":{\"colorbar\":{\"outlinewidth\":0,\"ticks\":\"\"}}}],\"scatter3d\":[{\"type\":\"scatter3d\",\"line\":{\"colorbar\":{\"outlinewidth\":0,\"ticks\":\"\"}},\"marker\":{\"colorbar\":{\"outlinewidth\":0,\"ticks\":\"\"}}}],\"scattermapbox\":[{\"type\":\"scattermapbox\",\"marker\":{\"colorbar\":{\"outlinewidth\":0,\"ticks\":\"\"}}}],\"scatterternary\":[{\"type\":\"scatterternary\",\"marker\":{\"colorbar\":{\"outlinewidth\":0,\"ticks\":\"\"}}}],\"scattercarpet\":[{\"type\":\"scattercarpet\",\"marker\":{\"colorbar\":{\"outlinewidth\":0,\"ticks\":\"\"}}}],\"carpet\":[{\"aaxis\":{\"endlinecolor\":\"#2a3f5f\",\"gridcolor\":\"white\",\"linecolor\":\"white\",\"minorgridcolor\":\"white\",\"startlinecolor\":\"#2a3f5f\"},\"baxis\":{\"endlinecolor\":\"#2a3f5f\",\"gridcolor\":\"white\",\"linecolor\":\"white\",\"minorgridcolor\":\"white\",\"startlinecolor\":\"#2a3f5f\"},\"type\":\"carpet\"}],\"table\":[{\"cells\":{\"fill\":{\"color\":\"#EBF0F8\"},\"line\":{\"color\":\"white\"}},\"header\":{\"fill\":{\"color\":\"#C8D4E3\"},\"line\":{\"color\":\"white\"}},\"type\":\"table\"}],\"barpolar\":[{\"marker\":{\"line\":{\"color\":\"#E5ECF6\",\"width\":0.5},\"pattern\":{\"fillmode\":\"overlay\",\"size\":10,\"solidity\":0.2}},\"type\":\"barpolar\"}],\"pie\":[{\"automargin\":true,\"type\":\"pie\"}]},\"layout\":{\"autotypenumbers\":\"strict\",\"colorway\":[\"#636efa\",\"#EF553B\",\"#00cc96\",\"#ab63fa\",\"#FFA15A\",\"#19d3f3\",\"#FF6692\",\"#B6E880\",\"#FF97FF\",\"#FECB52\"],\"font\":{\"color\":\"#2a3f5f\"},\"hovermode\":\"closest\",\"hoverlabel\":{\"align\":\"left\"},\"paper_bgcolor\":\"white\",\"plot_bgcolor\":\"#E5ECF6\",\"polar\":{\"bgcolor\":\"#E5ECF6\",\"angularaxis\":{\"gridcolor\":\"white\",\"linecolor\":\"white\",\"ticks\":\"\"},\"radialaxis\":{\"gridcolor\":\"white\",\"linecolor\":\"white\",\"ticks\":\"\"}},\"ternary\":{\"bgcolor\":\"#E5ECF6\",\"aaxis\":{\"gridcolor\":\"white\",\"linecolor\":\"white\",\"ticks\":\"\"},\"baxis\":{\"gridcolor\":\"white\",\"linecolor\":\"white\",\"ticks\":\"\"},\"caxis\":{\"gridcolor\":\"white\",\"linecolor\":\"white\",\"ticks\":\"\"}},\"coloraxis\":{\"colorbar\":{\"outlinewidth\":0,\"ticks\":\"\"}},\"colorscale\":{\"sequential\":[[0.0,\"#0d0887\"],[0.1111111111111111,\"#46039f\"],[0.2222222222222222,\"#7201a8\"],[0.3333333333333333,\"#9c179e\"],[0.4444444444444444,\"#bd3786\"],[0.5555555555555556,\"#d8576b\"],[0.6666666666666666,\"#ed7953\"],[0.7777777777777778,\"#fb9f3a\"],[0.8888888888888888,\"#fdca26\"],[1.0,\"#f0f921\"]],\"sequentialminus\":[[0.0,\"#0d0887\"],[0.1111111111111111,\"#46039f\"],[0.2222222222222222,\"#7201a8\"],[0.3333333333333333,\"#9c179e\"],[0.4444444444444444,\"#bd3786\"],[0.5555555555555556,\"#d8576b\"],[0.6666666666666666,\"#ed7953\"],[0.7777777777777778,\"#fb9f3a\"],[0.8888888888888888,\"#fdca26\"],[1.0,\"#f0f921\"]],\"diverging\":[[0,\"#8e0152\"],[0.1,\"#c51b7d\"],[0.2,\"#de77ae\"],[0.3,\"#f1b6da\"],[0.4,\"#fde0ef\"],[0.5,\"#f7f7f7\"],[0.6,\"#e6f5d0\"],[0.7,\"#b8e186\"],[0.8,\"#7fbc41\"],[0.9,\"#4d9221\"],[1,\"#276419\"]]},\"xaxis\":{\"gridcolor\":\"white\",\"linecolor\":\"white\",\"ticks\":\"\",\"title\":{\"standoff\":15},\"zerolinecolor\":\"white\",\"automargin\":true,\"zerolinewidth\":2},\"yaxis\":{\"gridcolor\":\"white\",\"linecolor\":\"white\",\"ticks\":\"\",\"title\":{\"standoff\":15},\"zerolinecolor\":\"white\",\"automargin\":true,\"zerolinewidth\":2},\"scene\":{\"xaxis\":{\"backgroundcolor\":\"#E5ECF6\",\"gridcolor\":\"white\",\"linecolor\":\"white\",\"showbackground\":true,\"ticks\":\"\",\"zerolinecolor\":\"white\",\"gridwidth\":2},\"yaxis\":{\"backgroundcolor\":\"#E5ECF6\",\"gridcolor\":\"white\",\"linecolor\":\"white\",\"showbackground\":true,\"ticks\":\"\",\"zerolinecolor\":\"white\",\"gridwidth\":2},\"zaxis\":{\"backgroundcolor\":\"#E5ECF6\",\"gridcolor\":\"white\",\"linecolor\":\"white\",\"showbackground\":true,\"ticks\":\"\",\"zerolinecolor\":\"white\",\"gridwidth\":2}},\"shapedefaults\":{\"line\":{\"color\":\"#2a3f5f\"}},\"annotationdefaults\":{\"arrowcolor\":\"#2a3f5f\",\"arrowhead\":0,\"arrowwidth\":1},\"geo\":{\"bgcolor\":\"white\",\"landcolor\":\"#E5ECF6\",\"subunitcolor\":\"white\",\"showland\":true,\"showlakes\":true,\"lakecolor\":\"white\"},\"title\":{\"x\":0.05},\"mapbox\":{\"style\":\"light\"}}},\"scene\":{\"aspectmode\":\"data\"}},                        {\"responsive\": true}                    ).then(function(){\n",
              "                            \n",
              "var gd = document.getElementById('b5972d7b-17be-4e13-8b7a-a616427b2fe3');\n",
              "var x = new MutationObserver(function (mutations, observer) {{\n",
              "        var display = window.getComputedStyle(gd).display;\n",
              "        if (!display || display === 'none') {{\n",
              "            console.log([gd, 'removed!']);\n",
              "            Plotly.purge(gd);\n",
              "            observer.disconnect();\n",
              "        }}\n",
              "}});\n",
              "\n",
              "// Listen for the removal of the full notebook cells\n",
              "var notebookContainer = gd.closest('#notebook-container');\n",
              "if (notebookContainer) {{\n",
              "    x.observe(notebookContainer, {childList: true});\n",
              "}}\n",
              "\n",
              "// Listen for the clearing of the current output cell\n",
              "var outputEl = gd.closest('.output');\n",
              "if (outputEl) {{\n",
              "    x.observe(outputEl, {childList: true});\n",
              "}}\n",
              "\n",
              "                        })                };                            </script>        </div>\n",
              "</body>\n",
              "</html>"
            ]
          },
          "metadata": {}
        }
      ],
      "source": [
        "# Jose Sasian’s Lens Design OPTI 517 EXAMPLE\n",
        "\n",
        "# create a new optical model and set up aliases\n",
        "opm = OpticalModel()\n",
        "sm  = opm['seq_model']\n",
        "osp = opm['optical_spec']\n",
        "pm = opm['parax_model']\n",
        "em = opm['ele_model']\n",
        "pt = opm['part_tree']\n",
        "ar = opm['analysis_results']\n",
        "\n",
        "# define field specs\n",
        "osp['pupil'] = PupilSpec(osp, key=['object', 'pupil'], value=12.5)\n",
        "osp['fov'] = FieldSpec(osp, key=['object', 'angle'], value=20, flds=[0, 0.707, 1], is_relative=True)\n",
        "osp['wvls'] = WvlSpec([('F', 0.5), (587.5618, 1.0), ('C', 0.5)], ref_wl=1)\n",
        "wv = 587.5618\n",
        "\n",
        "# define interface and gap data\n",
        "opm.radius_mode = True\n",
        "sm.gaps[0].thi= 15\n",
        "\n",
        "# add the surfaces\n",
        "sm.add_surface([23.713, 4.831, 'N-LAK9', 'Schott'])\n",
        "sm.add_surface([7331.288, 5.86])\n",
        "sm.add_surface([-24.456, .975, 'N-SF5,Schott'])\n",
        "sm.set_stop()\n",
        "sm.add_surface([21.896, 4.822])\n",
        "sm.add_surface([86.759, 3.127, 'N-LAK9', 'Schott'])\n",
        "sm.add_surface([-20.4942, 41.2365])\n",
        "\n",
        "# update the model\n",
        "opm.update_model()\n",
        "\n",
        "# set ray parameters\n",
        "rays = 5\n",
        "x_offsets = list(np.linspace(-60, 60, rays))\n",
        "y_offsets = list(np.linspace(-60, 60, rays))\n",
        "z_offsets = [0] * rays\n",
        "num_rays = 1\n",
        "\n",
        "# get ray and lens data\n",
        "ray_data = visualize_rays(sm, wv=wv, x_offsets=x_offsets, y_offsets=y_offsets, num_rays=num_rays)\n",
        "lens_data = visualize_lens(sm)\n",
        "\n",
        "# plot\n",
        "data = []\n",
        "data.extend(ray_data)\n",
        "data.extend(lens_data)\n",
        "fig = go.Figure(data = data)\n",
        "fig.update_scenes(aspectmode='data')\n",
        "fig.show()"
      ]
    }
  ],
  "metadata": {
    "colab": {
      "provenance": []
    },
    "kernelspec": {
      "display_name": "Python 3",
      "name": "python3"
    },
    "language_info": {
      "name": "python"
    }
  },
  "nbformat": 4,
  "nbformat_minor": 0
}